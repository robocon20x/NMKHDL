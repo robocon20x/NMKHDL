{
 "cells": [
  {
   "cell_type": "code",
   "execution_count": 1,
   "id": "96a3b80e",
   "metadata": {},
   "outputs": [
    {
     "data": {
      "text/plain": [
       "'E:\\\\app\\\\python\\\\python.exe'"
      ]
     },
     "execution_count": 1,
     "metadata": {},
     "output_type": "execute_result"
    }
   ],
   "source": [
    "import sys\n",
    "sys.executable"
   ]
  },
  {
   "cell_type": "markdown",
   "id": "633a031f",
   "metadata": {},
   "source": [
    "## Import"
   ]
  },
  {
   "cell_type": "code",
   "execution_count": 2,
   "id": "e2702074",
   "metadata": {},
   "outputs": [],
   "source": [
    "import matplotlib.pyplot as plt\n",
    "import numpy as np\n",
    "import pandas as pd\n",
    "import datetime\n",
    "import seaborn as sns"
   ]
  },
  {
   "cell_type": "markdown",
   "id": "29c39271",
   "metadata": {},
   "source": [
    "## Thu thập dữ liệu"
   ]
  },
  {
   "cell_type": "markdown",
   "id": "0e29d09d",
   "metadata": {},
   "source": [
    "Thực hành các bước phân tích dữ liệu từ bộ dữ liệu Soundcloud thu thập được trong đồ án 01"
   ]
  },
  {
   "cell_type": "markdown",
   "id": "97bd3a3b",
   "metadata": {},
   "source": [
    "Các bộ dữ liệu được lấy API từ đồ án 01. Các file được mô tả như sau."
   ]
  },
  {
   "cell_type": "markdown",
   "id": "daefd5e3",
   "metadata": {},
   "source": [
    "#### Thông tin của playlist:\n",
    "- playlist_link: Đường dẫn của playlist\n",
    "- playlist_title: tên playlist\n",
    "- playlist_genre: thể loại của playlist\n",
    "- playlist_likesCount: số lượt thích của playlist\n",
    "- playlist_repostsCount: số lượt repost của playlist\n",
    "- playlist_createdDate: ngày tạo playlist\n",
    "- playlist_duration: thời gian chạy playlist (đơn vị ms)\n",
    "- playlist_trackCount: số lượng track của playlist\n",
    "- playlist_Id: ID của playlist\n",
    "- playlist_username: tên user của playlist\n",
    "- playlist_userId: ID user của playlist"
   ]
  },
  {
   "cell_type": "markdown",
   "id": "f891ed10",
   "metadata": {},
   "source": [
    "#### Thông tin của user:\n",
    "- user_link: đường dẫn của user              \n",
    "- user_name: tên user\n",
    "- user_createdDate: ngày tạo tài khoản của user\n",
    "- user_followersCount: số lượt follow của user\n",
    "- user_playlistCount: số playlist user đã tạo\n",
    "- user_trackCount: số track user đã tạo\n",
    "- user_likesCount: số lượt thích của user\n",
    "- user_followingsCount: số người user follow\n",
    "- user_Id: ID của user"
   ]
  },
  {
   "cell_type": "markdown",
   "id": "14e7ff88",
   "metadata": {},
   "source": [
    "#### Thông tin của track:\n",
    "- track_link: đường dẫn của track\n",
    "- track_title: tên track\n",
    "- track_createdDate: ngày tạo track\n",
    "- track_genre: thể loại của track\n",
    "- track_playbackCount: số lượt nghe của track\n",
    "- track_Id: ID của track\n",
    "- track_likesCount: số lượt thích của track\n",
    "- track_repostsCount: số lượt repost của track\n",
    "- track_userId: ID user của track\n",
    "- track_downloadCount: số lượt tải của track\n",
    "- track_playlistlink: đường dẫn playlist mà track thuộc về\n",
    "- track_duration: thời gian chạy track (đơn vị ms)"
   ]
  },
  {
   "cell_type": "markdown",
   "id": "d215a805",
   "metadata": {},
   "source": [
    "## Khám phá dữ liệu"
   ]
  },
  {
   "cell_type": "markdown",
   "id": "25d4b8f0",
   "metadata": {},
   "source": [
    "### Đọc dữ liệu từ file"
   ]
  },
  {
   "cell_type": "markdown",
   "id": "83345d3e",
   "metadata": {},
   "source": [
    "Các file được lưu trong thư mục API. Gồm có playlist.csv, user.csv, track.csv"
   ]
  },
  {
   "cell_type": "code",
   "execution_count": 3,
   "id": "97101e44",
   "metadata": {},
   "outputs": [
    {
     "data": {
      "text/html": [
       "<div>\n",
       "<style scoped>\n",
       "    .dataframe tbody tr th:only-of-type {\n",
       "        vertical-align: middle;\n",
       "    }\n",
       "\n",
       "    .dataframe tbody tr th {\n",
       "        vertical-align: top;\n",
       "    }\n",
       "\n",
       "    .dataframe thead th {\n",
       "        text-align: right;\n",
       "    }\n",
       "</style>\n",
       "<table border=\"1\" class=\"dataframe\">\n",
       "  <thead>\n",
       "    <tr style=\"text-align: right;\">\n",
       "      <th></th>\n",
       "      <th>Playlist Link</th>\n",
       "      <th>Title</th>\n",
       "      <th>Genre</th>\n",
       "      <th>Likes Count</th>\n",
       "      <th>Reposts Count</th>\n",
       "      <th>Created Date</th>\n",
       "      <th>Duration</th>\n",
       "      <th>Track Count</th>\n",
       "      <th>ID</th>\n",
       "      <th>User Name</th>\n",
       "      <th>User ID</th>\n",
       "      <th>Tracks</th>\n",
       "    </tr>\n",
       "  </thead>\n",
       "  <tbody>\n",
       "    <tr>\n",
       "      <th>0</th>\n",
       "      <td>https://soundcloud.com/muhammad-muklis-7003212...</td>\n",
       "      <td>Top 50: All music genres</td>\n",
       "      <td>NaN</td>\n",
       "      <td>290</td>\n",
       "      <td>17</td>\n",
       "      <td>2018-12-07T06:55:17Z</td>\n",
       "      <td>8513501</td>\n",
       "      <td>26</td>\n",
       "      <td>659129484</td>\n",
       "      <td>muhammadmuklis@gmail.co.id</td>\n",
       "      <td>544546047</td>\n",
       "      <td>528533214;533391846;435118860;528492738;480040791</td>\n",
       "    </tr>\n",
       "    <tr>\n",
       "      <th>1</th>\n",
       "      <td>https://soundcloud.com/yevhen-hrushko/sets/all...</td>\n",
       "      <td>All Music</td>\n",
       "      <td>NaN</td>\n",
       "      <td>1</td>\n",
       "      <td>0</td>\n",
       "      <td>2020-10-06T23:04:03Z</td>\n",
       "      <td>112031795</td>\n",
       "      <td>471</td>\n",
       "      <td>1141124959</td>\n",
       "      <td>Yevhen Hrushko</td>\n",
       "      <td>890771602</td>\n",
       "      <td>858368242;726587980;771730309;617602353;854354230</td>\n",
       "    </tr>\n",
       "    <tr>\n",
       "      <th>2</th>\n",
       "      <td>https://soundcloud.com/user951373027/sets/all-...</td>\n",
       "      <td>all music</td>\n",
       "      <td>NaN</td>\n",
       "      <td>5</td>\n",
       "      <td>3</td>\n",
       "      <td>2015-03-31T02:10:47Z</td>\n",
       "      <td>281559523</td>\n",
       "      <td>343</td>\n",
       "      <td>94207274</td>\n",
       "      <td>user951373027</td>\n",
       "      <td>138802783</td>\n",
       "      <td>26064386;28864776;78325622;118151839;169661980</td>\n",
       "    </tr>\n",
       "    <tr>\n",
       "      <th>3</th>\n",
       "      <td>https://soundcloud.com/ro-vee-1/sets/all-music</td>\n",
       "      <td>All music</td>\n",
       "      <td>NaN</td>\n",
       "      <td>2</td>\n",
       "      <td>0</td>\n",
       "      <td>2016-10-28T03:50:10Z</td>\n",
       "      <td>214222175</td>\n",
       "      <td>478</td>\n",
       "      <td>270985401</td>\n",
       "      <td>Rovee801</td>\n",
       "      <td>49566271</td>\n",
       "      <td>51954776;103961182;66470829;270727415;264940362</td>\n",
       "    </tr>\n",
       "    <tr>\n",
       "      <th>4</th>\n",
       "      <td>https://soundcloud.com/dollarboyz/sets/all-music</td>\n",
       "      <td>ALL MUSIC</td>\n",
       "      <td>DOLLARBOYZ</td>\n",
       "      <td>2133</td>\n",
       "      <td>344</td>\n",
       "      <td>2015-06-25T15:29:39Z</td>\n",
       "      <td>34626107</td>\n",
       "      <td>395</td>\n",
       "      <td>119627636</td>\n",
       "      <td>DOLLARBOYZ</td>\n",
       "      <td>19436728</td>\n",
       "      <td>342069602;340369458;335396771;334764746;334068756</td>\n",
       "    </tr>\n",
       "  </tbody>\n",
       "</table>\n",
       "</div>"
      ],
      "text/plain": [
       "                                       Playlist Link  \\\n",
       "0  https://soundcloud.com/muhammad-muklis-7003212...   \n",
       "1  https://soundcloud.com/yevhen-hrushko/sets/all...   \n",
       "2  https://soundcloud.com/user951373027/sets/all-...   \n",
       "3     https://soundcloud.com/ro-vee-1/sets/all-music   \n",
       "4   https://soundcloud.com/dollarboyz/sets/all-music   \n",
       "\n",
       "                      Title       Genre  Likes Count  Reposts Count  \\\n",
       "0  Top 50: All music genres         NaN          290             17   \n",
       "1                 All Music         NaN            1              0   \n",
       "2                 all music         NaN            5              3   \n",
       "3                 All music         NaN            2              0   \n",
       "4                 ALL MUSIC  DOLLARBOYZ         2133            344   \n",
       "\n",
       "           Created Date   Duration  Track Count          ID  \\\n",
       "0  2018-12-07T06:55:17Z    8513501           26   659129484   \n",
       "1  2020-10-06T23:04:03Z  112031795          471  1141124959   \n",
       "2  2015-03-31T02:10:47Z  281559523          343    94207274   \n",
       "3  2016-10-28T03:50:10Z  214222175          478   270985401   \n",
       "4  2015-06-25T15:29:39Z   34626107          395   119627636   \n",
       "\n",
       "                    User Name    User ID  \\\n",
       "0  muhammadmuklis@gmail.co.id  544546047   \n",
       "1              Yevhen Hrushko  890771602   \n",
       "2               user951373027  138802783   \n",
       "3                    Rovee801   49566271   \n",
       "4                  DOLLARBOYZ   19436728   \n",
       "\n",
       "                                              Tracks  \n",
       "0  528533214;533391846;435118860;528492738;480040791  \n",
       "1  858368242;726587980;771730309;617602353;854354230  \n",
       "2     26064386;28864776;78325622;118151839;169661980  \n",
       "3    51954776;103961182;66470829;270727415;264940362  \n",
       "4  342069602;340369458;335396771;334764746;334068756  "
      ]
     },
     "execution_count": 3,
     "metadata": {},
     "output_type": "execute_result"
    }
   ],
   "source": [
    "playlist_df = pd.read_csv('API/playlist.csv')\n",
    "playlist_df = playlist_df.drop(playlist_df.columns[0],axis=1)\n",
    "playlist_df.head()"
   ]
  },
  {
   "cell_type": "code",
   "execution_count": 4,
   "id": "78a01524",
   "metadata": {},
   "outputs": [
    {
     "data": {
      "text/html": [
       "<div>\n",
       "<style scoped>\n",
       "    .dataframe tbody tr th:only-of-type {\n",
       "        vertical-align: middle;\n",
       "    }\n",
       "\n",
       "    .dataframe tbody tr th {\n",
       "        vertical-align: top;\n",
       "    }\n",
       "\n",
       "    .dataframe thead th {\n",
       "        text-align: right;\n",
       "    }\n",
       "</style>\n",
       "<table border=\"1\" class=\"dataframe\">\n",
       "  <thead>\n",
       "    <tr style=\"text-align: right;\">\n",
       "      <th></th>\n",
       "      <th>User Link</th>\n",
       "      <th>Name</th>\n",
       "      <th>Created Date</th>\n",
       "      <th>Followers Count</th>\n",
       "      <th>Playlist Count</th>\n",
       "      <th>Track Count</th>\n",
       "      <th>Likes Count</th>\n",
       "      <th>Followings Count</th>\n",
       "      <th>User ID</th>\n",
       "      <th>Badges</th>\n",
       "      <th>Verified</th>\n",
       "      <th>City</th>\n",
       "      <th>CountryCode</th>\n",
       "    </tr>\n",
       "  </thead>\n",
       "  <tbody>\n",
       "    <tr>\n",
       "      <th>0</th>\n",
       "      <td>https://soundcloud.com/l2share55</td>\n",
       "      <td>L2Share♫55</td>\n",
       "      <td>2017-05-27T04:02:32Z</td>\n",
       "      <td>17993</td>\n",
       "      <td>0</td>\n",
       "      <td>35</td>\n",
       "      <td>0</td>\n",
       "      <td>10</td>\n",
       "      <td>309764493</td>\n",
       "      <td>No</td>\n",
       "      <td>False</td>\n",
       "      <td>NaN</td>\n",
       "      <td>NaN</td>\n",
       "    </tr>\n",
       "    <tr>\n",
       "      <th>1</th>\n",
       "      <td>https://soundcloud.com/ali-mustofa-697077301</td>\n",
       "      <td>Ali Mustofa</td>\n",
       "      <td>2017-03-22T00:13:27Z</td>\n",
       "      <td>310</td>\n",
       "      <td>14</td>\n",
       "      <td>12</td>\n",
       "      <td>568</td>\n",
       "      <td>83</td>\n",
       "      <td>296809515</td>\n",
       "      <td>No</td>\n",
       "      <td>False</td>\n",
       "      <td>NaN</td>\n",
       "      <td>NaN</td>\n",
       "    </tr>\n",
       "    <tr>\n",
       "      <th>2</th>\n",
       "      <td>https://soundcloud.com/verdo-yicam</td>\n",
       "      <td>DROPS VISUAL</td>\n",
       "      <td>2018-02-23T04:11:19Z</td>\n",
       "      <td>930</td>\n",
       "      <td>0</td>\n",
       "      <td>12</td>\n",
       "      <td>55</td>\n",
       "      <td>1</td>\n",
       "      <td>404520300</td>\n",
       "      <td>No</td>\n",
       "      <td>False</td>\n",
       "      <td>NaN</td>\n",
       "      <td>NaN</td>\n",
       "    </tr>\n",
       "    <tr>\n",
       "      <th>3</th>\n",
       "      <td>https://soundcloud.com/remix-jackrmx</td>\n",
       "      <td>DJ JackRMX</td>\n",
       "      <td>2018-04-26T12:11:06Z</td>\n",
       "      <td>1080</td>\n",
       "      <td>0</td>\n",
       "      <td>27</td>\n",
       "      <td>42</td>\n",
       "      <td>8</td>\n",
       "      <td>439229406</td>\n",
       "      <td>No</td>\n",
       "      <td>False</td>\n",
       "      <td>Trap Nation</td>\n",
       "      <td>ID</td>\n",
       "    </tr>\n",
       "    <tr>\n",
       "      <th>4</th>\n",
       "      <td>https://soundcloud.com/fdj-mboll</td>\n",
       "      <td>Fdj Mboll V.2</td>\n",
       "      <td>2017-10-20T05:15:48Z</td>\n",
       "      <td>139</td>\n",
       "      <td>0</td>\n",
       "      <td>15</td>\n",
       "      <td>16</td>\n",
       "      <td>6</td>\n",
       "      <td>338985417</td>\n",
       "      <td>No</td>\n",
       "      <td>False</td>\n",
       "      <td>NaN</td>\n",
       "      <td>NaN</td>\n",
       "    </tr>\n",
       "  </tbody>\n",
       "</table>\n",
       "</div>"
      ],
      "text/plain": [
       "                                      User Link           Name  \\\n",
       "0              https://soundcloud.com/l2share55     L2Share♫55   \n",
       "1  https://soundcloud.com/ali-mustofa-697077301    Ali Mustofa   \n",
       "2            https://soundcloud.com/verdo-yicam   DROPS VISUAL   \n",
       "3          https://soundcloud.com/remix-jackrmx     DJ JackRMX   \n",
       "4              https://soundcloud.com/fdj-mboll  Fdj Mboll V.2   \n",
       "\n",
       "           Created Date  Followers Count  Playlist Count  Track Count  \\\n",
       "0  2017-05-27T04:02:32Z            17993               0           35   \n",
       "1  2017-03-22T00:13:27Z              310              14           12   \n",
       "2  2018-02-23T04:11:19Z              930               0           12   \n",
       "3  2018-04-26T12:11:06Z             1080               0           27   \n",
       "4  2017-10-20T05:15:48Z              139               0           15   \n",
       "\n",
       "   Likes Count  Followings Count    User ID Badges  Verified         City  \\\n",
       "0            0                10  309764493     No     False          NaN   \n",
       "1          568                83  296809515     No     False          NaN   \n",
       "2           55                 1  404520300     No     False          NaN   \n",
       "3           42                 8  439229406     No     False  Trap Nation   \n",
       "4           16                 6  338985417     No     False          NaN   \n",
       "\n",
       "  CountryCode  \n",
       "0         NaN  \n",
       "1         NaN  \n",
       "2         NaN  \n",
       "3          ID  \n",
       "4         NaN  "
      ]
     },
     "execution_count": 4,
     "metadata": {},
     "output_type": "execute_result"
    }
   ],
   "source": [
    "user_df = pd.read_csv('API/user.csv')\n",
    "user_df = user_df.drop(user_df.columns[0],axis=1)\n",
    "user_df.head()"
   ]
  },
  {
   "cell_type": "code",
   "execution_count": 5,
   "id": "7ccdb382",
   "metadata": {},
   "outputs": [
    {
     "data": {
      "text/html": [
       "<div>\n",
       "<style scoped>\n",
       "    .dataframe tbody tr th:only-of-type {\n",
       "        vertical-align: middle;\n",
       "    }\n",
       "\n",
       "    .dataframe tbody tr th {\n",
       "        vertical-align: top;\n",
       "    }\n",
       "\n",
       "    .dataframe thead th {\n",
       "        text-align: right;\n",
       "    }\n",
       "</style>\n",
       "<table border=\"1\" class=\"dataframe\">\n",
       "  <thead>\n",
       "    <tr style=\"text-align: right;\">\n",
       "      <th></th>\n",
       "      <th>Track Link</th>\n",
       "      <th>Title</th>\n",
       "      <th>Created Date</th>\n",
       "      <th>Genre</th>\n",
       "      <th>Playback Count</th>\n",
       "      <th>ID</th>\n",
       "      <th>Likes Count</th>\n",
       "      <th>Reposts Count</th>\n",
       "      <th>User ID</th>\n",
       "      <th>Downdload Count</th>\n",
       "      <th>Playlist Link</th>\n",
       "      <th>Duration</th>\n",
       "    </tr>\n",
       "  </thead>\n",
       "  <tbody>\n",
       "    <tr>\n",
       "      <th>0</th>\n",
       "      <td>https://soundcloud.com/l2share55/jennie-solo-b...</td>\n",
       "      <td>JENNIE – SOLO</td>\n",
       "      <td>2018-11-12T09:30:15Z</td>\n",
       "      <td>NaN</td>\n",
       "      <td>20915487.0</td>\n",
       "      <td>528533214</td>\n",
       "      <td>293482.0</td>\n",
       "      <td>6330</td>\n",
       "      <td>309764493</td>\n",
       "      <td>0.0</td>\n",
       "      <td>https://soundcloud.com/muhammad-muklis-7003212...</td>\n",
       "      <td>160067</td>\n",
       "    </tr>\n",
       "    <tr>\n",
       "      <th>1</th>\n",
       "      <td>https://soundcloud.com/ali-mustofa-697077301/s...</td>\n",
       "      <td>Smvll Adek Berjilbab Ungu</td>\n",
       "      <td>2018-11-21T14:19:37Z</td>\n",
       "      <td>NaN</td>\n",
       "      <td>4473674.0</td>\n",
       "      <td>533391846</td>\n",
       "      <td>63403.0</td>\n",
       "      <td>1445</td>\n",
       "      <td>296809515</td>\n",
       "      <td>0.0</td>\n",
       "      <td>https://soundcloud.com/muhammad-muklis-7003212...</td>\n",
       "      <td>198051</td>\n",
       "    </tr>\n",
       "    <tr>\n",
       "      <th>2</th>\n",
       "      <td>https://soundcloud.com/verdo-yicam/guyon-waton...</td>\n",
       "      <td>Guyon Waton - Korban Janji (New single)</td>\n",
       "      <td>2018-04-25T19:32:55Z</td>\n",
       "      <td>NaN</td>\n",
       "      <td>14301201.0</td>\n",
       "      <td>435118860</td>\n",
       "      <td>163918.0</td>\n",
       "      <td>2901</td>\n",
       "      <td>404520300</td>\n",
       "      <td>0.0</td>\n",
       "      <td>https://soundcloud.com/muhammad-muklis-7003212...</td>\n",
       "      <td>293303</td>\n",
       "    </tr>\n",
       "    <tr>\n",
       "      <th>3</th>\n",
       "      <td>https://soundcloud.com/remix-jackrmx/dj-enak-s...</td>\n",
       "      <td>Dj Enak Susunya Mama Remix Tik Tok 2018 $REMIX...</td>\n",
       "      <td>2018-11-12T06:28:46Z</td>\n",
       "      <td>Trap</td>\n",
       "      <td>2191521.0</td>\n",
       "      <td>528492738</td>\n",
       "      <td>42306.0</td>\n",
       "      <td>1360</td>\n",
       "      <td>439229406</td>\n",
       "      <td>0.0</td>\n",
       "      <td>https://soundcloud.com/muhammad-muklis-7003212...</td>\n",
       "      <td>867477</td>\n",
       "    </tr>\n",
       "    <tr>\n",
       "      <th>4</th>\n",
       "      <td>https://soundcloud.com/fdj-mboll/enak-susunya-...</td>\n",
       "      <td>Enak Susunya Mama Mama :D From Mboll Richardo :*</td>\n",
       "      <td>2018-08-02T06:50:13Z</td>\n",
       "      <td>NaN</td>\n",
       "      <td>1596162.0</td>\n",
       "      <td>480040791</td>\n",
       "      <td>23708.0</td>\n",
       "      <td>545</td>\n",
       "      <td>338985417</td>\n",
       "      <td>0.0</td>\n",
       "      <td>https://soundcloud.com/muhammad-muklis-7003212...</td>\n",
       "      <td>292415</td>\n",
       "    </tr>\n",
       "  </tbody>\n",
       "</table>\n",
       "</div>"
      ],
      "text/plain": [
       "                                          Track Link  \\\n",
       "0  https://soundcloud.com/l2share55/jennie-solo-b...   \n",
       "1  https://soundcloud.com/ali-mustofa-697077301/s...   \n",
       "2  https://soundcloud.com/verdo-yicam/guyon-waton...   \n",
       "3  https://soundcloud.com/remix-jackrmx/dj-enak-s...   \n",
       "4  https://soundcloud.com/fdj-mboll/enak-susunya-...   \n",
       "\n",
       "                                               Title          Created Date  \\\n",
       "0                                      JENNIE – SOLO  2018-11-12T09:30:15Z   \n",
       "1                          Smvll Adek Berjilbab Ungu  2018-11-21T14:19:37Z   \n",
       "2            Guyon Waton - Korban Janji (New single)  2018-04-25T19:32:55Z   \n",
       "3  Dj Enak Susunya Mama Remix Tik Tok 2018 $REMIX...  2018-11-12T06:28:46Z   \n",
       "4   Enak Susunya Mama Mama :D From Mboll Richardo :*  2018-08-02T06:50:13Z   \n",
       "\n",
       "  Genre  Playback Count         ID  Likes Count  Reposts Count    User ID  \\\n",
       "0   NaN      20915487.0  528533214     293482.0           6330  309764493   \n",
       "1   NaN       4473674.0  533391846      63403.0           1445  296809515   \n",
       "2   NaN      14301201.0  435118860     163918.0           2901  404520300   \n",
       "3  Trap       2191521.0  528492738      42306.0           1360  439229406   \n",
       "4   NaN       1596162.0  480040791      23708.0            545  338985417   \n",
       "\n",
       "   Downdload Count                                      Playlist Link  \\\n",
       "0              0.0  https://soundcloud.com/muhammad-muklis-7003212...   \n",
       "1              0.0  https://soundcloud.com/muhammad-muklis-7003212...   \n",
       "2              0.0  https://soundcloud.com/muhammad-muklis-7003212...   \n",
       "3              0.0  https://soundcloud.com/muhammad-muklis-7003212...   \n",
       "4              0.0  https://soundcloud.com/muhammad-muklis-7003212...   \n",
       "\n",
       "   Duration  \n",
       "0    160067  \n",
       "1    198051  \n",
       "2    293303  \n",
       "3    867477  \n",
       "4    292415  "
      ]
     },
     "execution_count": 5,
     "metadata": {},
     "output_type": "execute_result"
    }
   ],
   "source": [
    "track_df = pd.read_csv('API/track.csv')\n",
    "track_df = track_df.drop(track_df.columns[0],axis=1)\n",
    "track_df.head()"
   ]
  },
  {
   "cell_type": "markdown",
   "id": "f6a80424",
   "metadata": {},
   "source": [
    "### Dữ liệu có bao nhiêu dòng và bao nhiêu cột?"
   ]
  },
  {
   "cell_type": "code",
   "execution_count": 6,
   "id": "e28a114b",
   "metadata": {},
   "outputs": [
    {
     "data": {
      "text/plain": [
       "(1021, 12)"
      ]
     },
     "execution_count": 6,
     "metadata": {},
     "output_type": "execute_result"
    }
   ],
   "source": [
    "playlist_df.shape"
   ]
  },
  {
   "cell_type": "code",
   "execution_count": 7,
   "id": "e66f8eb7",
   "metadata": {},
   "outputs": [
    {
     "data": {
      "text/plain": [
       "(4564, 12)"
      ]
     },
     "execution_count": 7,
     "metadata": {},
     "output_type": "execute_result"
    }
   ],
   "source": [
    "track_df.shape"
   ]
  },
  {
   "cell_type": "code",
   "execution_count": 8,
   "id": "18ecfe2f",
   "metadata": {},
   "outputs": [
    {
     "data": {
      "text/plain": [
       "(3019, 13)"
      ]
     },
     "execution_count": 8,
     "metadata": {},
     "output_type": "execute_result"
    }
   ],
   "source": [
    "user_df.shape"
   ]
  },
  {
   "cell_type": "markdown",
   "id": "9a100b1f",
   "metadata": {},
   "source": [
    "### Dữ liệu có các dòng bị lặp không?"
   ]
  },
  {
   "cell_type": "code",
   "execution_count": 9,
   "id": "8ad3e756",
   "metadata": {},
   "outputs": [
    {
     "data": {
      "text/plain": [
       "0"
      ]
     },
     "execution_count": 9,
     "metadata": {},
     "output_type": "execute_result"
    }
   ],
   "source": [
    "len(playlist_df.index) - len(playlist_df.index.drop_duplicates())"
   ]
  },
  {
   "cell_type": "code",
   "execution_count": 10,
   "id": "bd0e493f",
   "metadata": {},
   "outputs": [
    {
     "data": {
      "text/plain": [
       "0"
      ]
     },
     "execution_count": 10,
     "metadata": {},
     "output_type": "execute_result"
    }
   ],
   "source": [
    "len(user_df.index) - len(user_df.index.drop_duplicates())"
   ]
  },
  {
   "cell_type": "code",
   "execution_count": 11,
   "id": "169bdd24",
   "metadata": {},
   "outputs": [
    {
     "data": {
      "text/plain": [
       "0"
      ]
     },
     "execution_count": 11,
     "metadata": {},
     "output_type": "execute_result"
    }
   ],
   "source": [
    "len(track_df.index) - len(track_df.index.drop_duplicates())"
   ]
  },
  {
   "cell_type": "markdown",
   "id": "ec93de9b",
   "metadata": {},
   "source": [
    "## Mỗi cột hiện đang có kiểu dữ liệu gì? Có cột nào có kiểu dữ liệu chưa phù hợp để có thể xử lý tiếp không?"
   ]
  },
  {
   "cell_type": "code",
   "execution_count": 12,
   "id": "9f74727b",
   "metadata": {},
   "outputs": [
    {
     "data": {
      "text/plain": [
       "Playlist Link    object\n",
       "Title            object\n",
       "Genre            object\n",
       "Likes Count       int64\n",
       "Reposts Count     int64\n",
       "Created Date     object\n",
       "Duration          int64\n",
       "Track Count       int64\n",
       "ID                int64\n",
       "User Name        object\n",
       "User ID           int64\n",
       "Tracks           object\n",
       "dtype: object"
      ]
     },
     "execution_count": 12,
     "metadata": {},
     "output_type": "execute_result"
    }
   ],
   "source": [
    "playlist_df.dtypes"
   ]
  },
  {
   "cell_type": "markdown",
   "id": "8d95fdae",
   "metadata": {},
   "source": [
    "Ta có thể thấy dữ liệu có vẻ khá đúng trừ cột 'Create Date' và cột 'Duration' vẫn đang ở dạng object do đó ta sẽ chuyển nó về dạng datetime. Tượng tự cho user và track"
   ]
  },
  {
   "cell_type": "code",
   "execution_count": 13,
   "id": "3ad4acb8",
   "metadata": {},
   "outputs": [],
   "source": [
    "playlist_df['Created Date'] = playlist_df['Created Date'].astype('datetime64[ns]')"
   ]
  },
  {
   "cell_type": "code",
   "execution_count": 14,
   "id": "374574a6",
   "metadata": {},
   "outputs": [
    {
     "data": {
      "text/plain": [
       "0         8513501\n",
       "1       112031795\n",
       "2       281559523\n",
       "3       214222175\n",
       "4        34626107\n",
       "          ...    \n",
       "1016     40543350\n",
       "1017     40811126\n",
       "1018     22426080\n",
       "1019     29446640\n",
       "1020     44027660\n",
       "Name: Duration, Length: 1021, dtype: int64"
      ]
     },
     "execution_count": 14,
     "metadata": {},
     "output_type": "execute_result"
    }
   ],
   "source": [
    "playlist_df['Duration']"
   ]
  },
  {
   "cell_type": "code",
   "execution_count": 15,
   "id": "3cbc5bb2",
   "metadata": {},
   "outputs": [
    {
     "data": {
      "text/plain": [
       "0      2018-12-07 06:55:17\n",
       "1      2020-10-06 23:04:03\n",
       "2      2015-03-31 02:10:47\n",
       "3      2016-10-28 03:50:10\n",
       "4      2015-06-25 15:29:39\n",
       "               ...        \n",
       "1016   2016-02-09 22:31:59\n",
       "1017   2015-10-26 05:45:36\n",
       "1018   2017-08-25 18:36:40\n",
       "1019   2021-08-20 22:16:45\n",
       "1020   2017-03-10 14:27:02\n",
       "Name: Created Date, Length: 1021, dtype: datetime64[ns]"
      ]
     },
     "execution_count": 15,
     "metadata": {},
     "output_type": "execute_result"
    }
   ],
   "source": [
    "playlist_df['Created Date']"
   ]
  },
  {
   "cell_type": "code",
   "execution_count": 16,
   "id": "d5794265",
   "metadata": {},
   "outputs": [
    {
     "data": {
      "text/plain": [
       "Track Link          object\n",
       "Title               object\n",
       "Created Date        object\n",
       "Genre               object\n",
       "Playback Count     float64\n",
       "ID                   int64\n",
       "Likes Count        float64\n",
       "Reposts Count        int64\n",
       "User ID              int64\n",
       "Downdload Count    float64\n",
       "Playlist Link       object\n",
       "Duration             int64\n",
       "dtype: object"
      ]
     },
     "execution_count": 16,
     "metadata": {},
     "output_type": "execute_result"
    }
   ],
   "source": [
    "track_df.dtypes"
   ]
  },
  {
   "cell_type": "code",
   "execution_count": 17,
   "id": "c52bc16b",
   "metadata": {},
   "outputs": [],
   "source": [
    "track_df['Created Date'] = track_df['Created Date'].astype('datetime64[ns]')"
   ]
  },
  {
   "cell_type": "code",
   "execution_count": 18,
   "id": "d395f538",
   "metadata": {},
   "outputs": [
    {
     "data": {
      "text/plain": [
       "User Link           object\n",
       "Name                object\n",
       "Created Date        object\n",
       "Followers Count      int64\n",
       "Playlist Count       int64\n",
       "Track Count          int64\n",
       "Likes Count          int64\n",
       "Followings Count     int64\n",
       "User ID              int64\n",
       "Badges              object\n",
       "Verified              bool\n",
       "City                object\n",
       "CountryCode         object\n",
       "dtype: object"
      ]
     },
     "execution_count": 18,
     "metadata": {},
     "output_type": "execute_result"
    }
   ],
   "source": [
    "user_df.dtypes"
   ]
  },
  {
   "cell_type": "code",
   "execution_count": 19,
   "id": "f9e48634",
   "metadata": {},
   "outputs": [],
   "source": [
    "user_df['Created Date'] = user_df['Created Date'].astype('datetime64[ns]')"
   ]
  },
  {
   "cell_type": "markdown",
   "id": "27a71b79",
   "metadata": {},
   "source": [
    "## Quay lại bước khám phá dữ liệu"
   ]
  },
  {
   "cell_type": "markdown",
   "id": "482c70f2",
   "metadata": {},
   "source": [
    "### Với mỗi cột có kiểu dữ liệu dạng số, các giá trị được phân bố như thế nào? <br>\n",
    "Với các cột có kiểu dữ liệu số, ta sẽ tính:\n",
    "- Tỉ lệ % (từ 0 đến 100) các giá trị thiếu \n",
    "- Giá trị min\n",
    "- Giá trị lower quartile (phân vị 25)\n",
    "- Giá trị median (phân vị 50)\n",
    "- Giá trị upper quartile (phân vị 75)\n",
    "- Giá trị max"
   ]
  },
  {
   "cell_type": "code",
   "execution_count": 20,
   "id": "9b5b6dac",
   "metadata": {},
   "outputs": [],
   "source": [
    "def calculate_quartile(data):\n",
    "    nume_col_info_df = pd.DataFrame()\n",
    "    dont_touch = ['User ID', 'Playlist ID', 'Duration']\n",
    "    for col in data.keys():\n",
    "        if data[col].dtype in [np.int64, np.float64] and col not in dont_touch:\n",
    "            missing_percentage = round(data[col].isnull().sum() * 100 / len(data[col]), 1)\n",
    "            min_value = data[col].min()\n",
    "            lower_quartile = data[col].quantile(0.25)\n",
    "            median = data[col].median()\n",
    "            upper = data[col].quantile(0.75)\n",
    "            max_value = data[col].max()\n",
    "            row_line = pd.Series([missing_percentage, min_value, lower_quartile, median, upper, max_value], \n",
    "                                 index = ['missing_percentage', 'min', 'lower_quartile', 'median', 'upper_quartile', 'max'])\n",
    "            nume_col_info_df[col] = row_line\n",
    "    return nume_col_info_df"
   ]
  },
  {
   "cell_type": "code",
   "execution_count": 21,
   "id": "408c1ce9",
   "metadata": {},
   "outputs": [
    {
     "data": {
      "text/html": [
       "<div>\n",
       "<style scoped>\n",
       "    .dataframe tbody tr th:only-of-type {\n",
       "        vertical-align: middle;\n",
       "    }\n",
       "\n",
       "    .dataframe tbody tr th {\n",
       "        vertical-align: top;\n",
       "    }\n",
       "\n",
       "    .dataframe thead th {\n",
       "        text-align: right;\n",
       "    }\n",
       "</style>\n",
       "<table border=\"1\" class=\"dataframe\">\n",
       "  <thead>\n",
       "    <tr style=\"text-align: right;\">\n",
       "      <th></th>\n",
       "      <th>Likes Count</th>\n",
       "      <th>Reposts Count</th>\n",
       "      <th>Track Count</th>\n",
       "      <th>ID</th>\n",
       "    </tr>\n",
       "  </thead>\n",
       "  <tbody>\n",
       "    <tr>\n",
       "      <th>missing_percentage</th>\n",
       "      <td>0.0</td>\n",
       "      <td>0.0</td>\n",
       "      <td>0.0</td>\n",
       "      <td>0.000000e+00</td>\n",
       "    </tr>\n",
       "    <tr>\n",
       "      <th>min</th>\n",
       "      <td>0.0</td>\n",
       "      <td>0.0</td>\n",
       "      <td>0.0</td>\n",
       "      <td>9.696880e+05</td>\n",
       "    </tr>\n",
       "    <tr>\n",
       "      <th>lower_quartile</th>\n",
       "      <td>1.0</td>\n",
       "      <td>0.0</td>\n",
       "      <td>57.0</td>\n",
       "      <td>1.196276e+08</td>\n",
       "    </tr>\n",
       "    <tr>\n",
       "      <th>median</th>\n",
       "      <td>9.0</td>\n",
       "      <td>0.0</td>\n",
       "      <td>337.0</td>\n",
       "      <td>2.865766e+08</td>\n",
       "    </tr>\n",
       "    <tr>\n",
       "      <th>upper_quartile</th>\n",
       "      <td>49.0</td>\n",
       "      <td>4.0</td>\n",
       "      <td>457.0</td>\n",
       "      <td>7.193099e+08</td>\n",
       "    </tr>\n",
       "    <tr>\n",
       "      <th>max</th>\n",
       "      <td>284767.0</td>\n",
       "      <td>45233.0</td>\n",
       "      <td>500.0</td>\n",
       "      <td>1.361352e+09</td>\n",
       "    </tr>\n",
       "  </tbody>\n",
       "</table>\n",
       "</div>"
      ],
      "text/plain": [
       "                    Likes Count  Reposts Count  Track Count            ID\n",
       "missing_percentage          0.0            0.0          0.0  0.000000e+00\n",
       "min                         0.0            0.0          0.0  9.696880e+05\n",
       "lower_quartile              1.0            0.0         57.0  1.196276e+08\n",
       "median                      9.0            0.0        337.0  2.865766e+08\n",
       "upper_quartile             49.0            4.0        457.0  7.193099e+08\n",
       "max                    284767.0        45233.0        500.0  1.361352e+09"
      ]
     },
     "execution_count": 21,
     "metadata": {},
     "output_type": "execute_result"
    }
   ],
   "source": [
    "playlist_info_df = calculate_quartile(playlist_df)\n",
    "playlist_info_df"
   ]
  },
  {
   "cell_type": "code",
   "execution_count": 22,
   "id": "e29a4544",
   "metadata": {},
   "outputs": [
    {
     "data": {
      "text/html": [
       "<div>\n",
       "<style scoped>\n",
       "    .dataframe tbody tr th:only-of-type {\n",
       "        vertical-align: middle;\n",
       "    }\n",
       "\n",
       "    .dataframe tbody tr th {\n",
       "        vertical-align: top;\n",
       "    }\n",
       "\n",
       "    .dataframe thead th {\n",
       "        text-align: right;\n",
       "    }\n",
       "</style>\n",
       "<table border=\"1\" class=\"dataframe\">\n",
       "  <thead>\n",
       "    <tr style=\"text-align: right;\">\n",
       "      <th></th>\n",
       "      <th>Likes Count</th>\n",
       "      <th>Reposts Count</th>\n",
       "      <th>Track Count</th>\n",
       "      <th>ID</th>\n",
       "    </tr>\n",
       "  </thead>\n",
       "  <tbody>\n",
       "    <tr>\n",
       "      <th>missing_percentage</th>\n",
       "      <td>0.0</td>\n",
       "      <td>0.0</td>\n",
       "      <td>0.0</td>\n",
       "      <td>0.000000e+00</td>\n",
       "    </tr>\n",
       "    <tr>\n",
       "      <th>min</th>\n",
       "      <td>0.0</td>\n",
       "      <td>0.0</td>\n",
       "      <td>0.0</td>\n",
       "      <td>9.696880e+05</td>\n",
       "    </tr>\n",
       "    <tr>\n",
       "      <th>lower_quartile</th>\n",
       "      <td>1.0</td>\n",
       "      <td>0.0</td>\n",
       "      <td>57.0</td>\n",
       "      <td>1.196276e+08</td>\n",
       "    </tr>\n",
       "    <tr>\n",
       "      <th>median</th>\n",
       "      <td>9.0</td>\n",
       "      <td>0.0</td>\n",
       "      <td>337.0</td>\n",
       "      <td>2.865766e+08</td>\n",
       "    </tr>\n",
       "    <tr>\n",
       "      <th>upper_quartile</th>\n",
       "      <td>49.0</td>\n",
       "      <td>4.0</td>\n",
       "      <td>457.0</td>\n",
       "      <td>7.193099e+08</td>\n",
       "    </tr>\n",
       "    <tr>\n",
       "      <th>max</th>\n",
       "      <td>284767.0</td>\n",
       "      <td>45233.0</td>\n",
       "      <td>500.0</td>\n",
       "      <td>1.361352e+09</td>\n",
       "    </tr>\n",
       "  </tbody>\n",
       "</table>\n",
       "</div>"
      ],
      "text/plain": [
       "                    Likes Count  Reposts Count  Track Count            ID\n",
       "missing_percentage          0.0            0.0          0.0  0.000000e+00\n",
       "min                         0.0            0.0          0.0  9.696880e+05\n",
       "lower_quartile              1.0            0.0         57.0  1.196276e+08\n",
       "median                      9.0            0.0        337.0  2.865766e+08\n",
       "upper_quartile             49.0            4.0        457.0  7.193099e+08\n",
       "max                    284767.0        45233.0        500.0  1.361352e+09"
      ]
     },
     "execution_count": 22,
     "metadata": {},
     "output_type": "execute_result"
    }
   ],
   "source": [
    "track_info_df = calculate_quartile(playlist_df)\n",
    "track_info_df"
   ]
  },
  {
   "cell_type": "code",
   "execution_count": 23,
   "id": "7fad5bb1",
   "metadata": {},
   "outputs": [
    {
     "data": {
      "text/html": [
       "<div>\n",
       "<style scoped>\n",
       "    .dataframe tbody tr th:only-of-type {\n",
       "        vertical-align: middle;\n",
       "    }\n",
       "\n",
       "    .dataframe tbody tr th {\n",
       "        vertical-align: top;\n",
       "    }\n",
       "\n",
       "    .dataframe thead th {\n",
       "        text-align: right;\n",
       "    }\n",
       "</style>\n",
       "<table border=\"1\" class=\"dataframe\">\n",
       "  <thead>\n",
       "    <tr style=\"text-align: right;\">\n",
       "      <th></th>\n",
       "      <th>Followers Count</th>\n",
       "      <th>Playlist Count</th>\n",
       "      <th>Track Count</th>\n",
       "      <th>Likes Count</th>\n",
       "      <th>Followings Count</th>\n",
       "    </tr>\n",
       "  </thead>\n",
       "  <tbody>\n",
       "    <tr>\n",
       "      <th>missing_percentage</th>\n",
       "      <td>0.0</td>\n",
       "      <td>0.0</td>\n",
       "      <td>0.0</td>\n",
       "      <td>0.0</td>\n",
       "      <td>0.0</td>\n",
       "    </tr>\n",
       "    <tr>\n",
       "      <th>min</th>\n",
       "      <td>0.0</td>\n",
       "      <td>0.0</td>\n",
       "      <td>1.0</td>\n",
       "      <td>0.0</td>\n",
       "      <td>0.0</td>\n",
       "    </tr>\n",
       "    <tr>\n",
       "      <th>lower_quartile</th>\n",
       "      <td>480.5</td>\n",
       "      <td>0.0</td>\n",
       "      <td>12.0</td>\n",
       "      <td>1.0</td>\n",
       "      <td>1.0</td>\n",
       "    </tr>\n",
       "    <tr>\n",
       "      <th>median</th>\n",
       "      <td>5242.0</td>\n",
       "      <td>3.0</td>\n",
       "      <td>42.0</td>\n",
       "      <td>20.0</td>\n",
       "      <td>13.0</td>\n",
       "    </tr>\n",
       "    <tr>\n",
       "      <th>upper_quartile</th>\n",
       "      <td>54811.0</td>\n",
       "      <td>17.0</td>\n",
       "      <td>161.0</td>\n",
       "      <td>165.0</td>\n",
       "      <td>103.0</td>\n",
       "    </tr>\n",
       "    <tr>\n",
       "      <th>max</th>\n",
       "      <td>9990722.0</td>\n",
       "      <td>1533.0</td>\n",
       "      <td>40410.0</td>\n",
       "      <td>55810.0</td>\n",
       "      <td>2005.0</td>\n",
       "    </tr>\n",
       "  </tbody>\n",
       "</table>\n",
       "</div>"
      ],
      "text/plain": [
       "                    Followers Count  Playlist Count  Track Count  Likes Count  \\\n",
       "missing_percentage              0.0             0.0          0.0          0.0   \n",
       "min                             0.0             0.0          1.0          0.0   \n",
       "lower_quartile                480.5             0.0         12.0          1.0   \n",
       "median                       5242.0             3.0         42.0         20.0   \n",
       "upper_quartile              54811.0            17.0        161.0        165.0   \n",
       "max                       9990722.0          1533.0      40410.0      55810.0   \n",
       "\n",
       "                    Followings Count  \n",
       "missing_percentage               0.0  \n",
       "min                              0.0  \n",
       "lower_quartile                   1.0  \n",
       "median                          13.0  \n",
       "upper_quartile                 103.0  \n",
       "max                           2005.0  "
      ]
     },
     "execution_count": 23,
     "metadata": {},
     "output_type": "execute_result"
    }
   ],
   "source": [
    "user_info_df = calculate_quartile(user_df)\n",
    "user_info_df"
   ]
  },
  {
   "cell_type": "markdown",
   "id": "a539f2fc",
   "metadata": {},
   "source": [
    "### Có giá trị không hợp lệ trong mỗi cột không? "
   ]
  },
  {
   "cell_type": "markdown",
   "id": "665f91a1",
   "metadata": {},
   "source": [
    "Có vẻ như nhìn chung thì dữ liệu thu thập được đều hợp lệ!"
   ]
  },
  {
   "cell_type": "markdown",
   "id": "f8164530",
   "metadata": {},
   "source": [
    "## Quay lại bước khám phá dữ liệu"
   ]
  },
  {
   "cell_type": "markdown",
   "id": "4a9e2f5d",
   "metadata": {},
   "source": [
    "### Với mỗi cột có kiểu dữ liệu không phải dạng số, các giá trị được phân bố như thế nào?"
   ]
  },
  {
   "cell_type": "markdown",
   "id": "98ea5be4",
   "metadata": {},
   "source": [
    "## Đặt câu hỏi"
   ]
  },
  {
   "cell_type": "markdown",
   "id": "3147a83e",
   "metadata": {},
   "source": [
    "Câu hỏi liên quan đến user-track:\n",
    "- Có phải các track của những user có pro_unlimited có lượng người nghe trung bình lớn hơn pro và lớn hơn No.\n",
    "- có phải follwers càng cao thì số lượng lượt nghe trung bình càng cao không\n",
    "- có phải follwers càng cao thì số lượng lượt like trung bình càng cao không\n",
    "- User nào tham gia nhiều thể loại track nhất"
   ]
  },
  {
   "cell_type": "markdown",
   "id": "b913b653",
   "metadata": {},
   "source": [
    "1. Như ta đã biết, soundclound có gói nâng cấp Pro_unlimited để nâng cấp tài khoản người dùng, trong đó có một nâng cấp đáng chú ý dành cho user. Với những tài khoản pro_unlimited thì những tracks của họ sẽ được đưa lên trang discovery và đưa tracks vào top playlist trên các dịch vụ âm nhạc .Vậy có phải các track của những user có pro_unlimited có lượng người nghe trung bình lớn hơn user free hay không. Và điều đó mang đến kết quả thực tế là gì"
   ]
  },
  {
   "cell_type": "markdown",
   "id": "03ab3ae6",
   "metadata": {},
   "source": [
    "Bước 1: Xử lý dữ liệu"
   ]
  },
  {
   "cell_type": "code",
   "execution_count": 24,
   "id": "d9ca8d72",
   "metadata": {},
   "outputs": [],
   "source": [
    "#luu ID user theo tung Badges\n",
    "user_pro_unlimited = user_df[user_df.Badges == 'pro_unlimited']['User ID'].tolist()\n",
    "user_pro = user_df[user_df.Badges == 'pro']['User ID'].tolist()\n",
    "user_free = user_df[user_df.Badges == 'No']['User ID'].tolist()\n",
    "# tính trung bình \n",
    "t1 = track_df[track_df['User ID'].isin(user_pro_unlimited)]['Playback Count'].mean()\n",
    "t2 = track_df[track_df['User ID'].isin(user_free)]['Playback Count'].mean()\n",
    "t3 = track_df[track_df['User ID'].isin(user_pro)]['Playback Count'].mean()\n",
    "#Lưu độ dài của các list\n",
    "len_user = [len(user_pro_unlimited),len(user_free),len(user_pro)]"
   ]
  },
  {
   "cell_type": "markdown",
   "id": "2818fbd9",
   "metadata": {},
   "source": [
    "Bước 2: Vẽ đồ thị"
   ]
  },
  {
   "cell_type": "code",
   "execution_count": 25,
   "id": "7cadf231",
   "metadata": {},
   "outputs": [
    {
     "data": {
      "image/png": "[encoded data removed]",
      "text/plain": [
       "<Figure size 432x288 with 1 Axes>"
      ]
     },
     "metadata": {
      "needs_background": "light"
     },
     "output_type": "display_data"
    },
    {
     "data": {
      "image/png": "[encoded data removed]",
      "text/plain": [
       "<Figure size 432x288 with 1 Axes>"
      ]
     },
     "metadata": {
      "needs_background": "light"
     },
     "output_type": "display_data"
    }
   ],
   "source": [
    "#plt 1\n",
    "fig,ax = plt.subplots()\n",
    "ax_label = ['track_of_user_pro_unlimited','track_of_user_free','track_of_user_pro']\n",
    "ax.barh(ax_label,[t1,t2,t3],0.8)\n",
    "\n",
    "plt.xlabel('play count')\n",
    "plt.title('average playcount per track')\n",
    "for x, y in enumerate([t1,t2,t3]):\n",
    "    ax.text(y,x,s=str(\"{:.3g}\".format(y)))\n",
    "\n",
    "#plt 2\n",
    "fig1,ax1 = plt.subplots()\n",
    "ax1_label = ['user_pro_unlimited','user_free','user_pro']\n",
    "plt.ylabel('user')\n",
    "\n",
    "plt.title('number user of badges')\n",
    "ax1.bar(ax1_label,len_user)\n",
    "for x, y in enumerate(len_user):\n",
    "    ax1.text(x-0.1,y,s=str(y))\n",
    "\n",
    "plt.show()"
   ]
  },
  {
   "cell_type": "markdown",
   "id": "db437aa3",
   "metadata": {},
   "source": [
    "Nhận xét:\n",
    "- Nhìn vào biểu đồ `average play count per track` Số lượt nghe trung bình những tracks của người dùng có `pro_unlimited` cao hơn khoảng 2 lần số lượt nghe trung bình những tracks của người dùng `free`. Có vẻ như gói `pro_unlimited` đã làm khá tốt nhiệm vụ quảng cáo của mình.\n",
    "- Từ đó nhìn sang biểu đồ `number user of badges` ta có thể thấy được số lượng người dùng được khảo sát đăng ký `pro_unlimited` khá là nhiều. Lớn hơn một nửa của người dùng free, vậy hiệu quả mà gói `pro_unlimited` đã được khá nhiều người dùng tin tưởng và sử dụng\n",
    "- Vậy tại sao lại không so sánh với gói `pro`?\n",
    "    - Bởi vì gói `pro` chỉ hướng đến đối tượng người dùng là người nghe nhạc, nó chỉ cung cấp thêm những tính năng nâng cao cho những người nghe nhạc nên không có gì quá khác biệt với những người dùng `free` nếu đăng nhạc lên. Vì dữ liệu của ta đang xét đến những người đăng nhạc nên số lượng người dùng `pro` rất ít nên ta không đủ dữ liệu để xét."
   ]
  },
  {
   "cell_type": "markdown",
   "id": "e839e50a",
   "metadata": {},
   "source": [
    "2. Vậy ngoài nguyên nhân do gói `pro_unlimited` mang lại, thì liệu số `follower` của người dùng có ảnh hưởng đến số lượt nghe của track không?"
   ]
  },
  {
   "cell_type": "markdown",
   "id": "02db56ee",
   "metadata": {},
   "source": [
    "Bước 1: Kiểm tra dữ liệu: \n",
    "- Đầu tiên ta kiểm tra coi số lượng track của mỗi user có bị phân tán quá nhiều không"
   ]
  },
  {
   "cell_type": "code",
   "execution_count": 26,
   "id": "fc464ad2",
   "metadata": {},
   "outputs": [
    {
     "name": "stdout",
     "output_type": "stream",
     "text": [
      "1     2427\n",
      "2      264\n",
      "3      125\n",
      "4       63\n",
      "5       75\n",
      "6       16\n",
      "7       15\n",
      "8       10\n",
      "9        3\n",
      "10       7\n",
      "11       2\n",
      "12       2\n",
      "13       1\n",
      "14       1\n",
      "15       3\n",
      "16       1\n",
      "18       1\n",
      "19       1\n",
      "20       1\n",
      "38       1\n",
      "Name: ID, dtype: int64\n"
     ]
    }
   ],
   "source": [
    "# đếm số track của mỗi người dùng\n",
    "temp = track_df.groupby(['User ID']).count()['ID']\n",
    "#xem phổ phân bố số track\n",
    "print(temp.groupby(temp.values).count())"
   ]
  },
  {
   "cell_type": "markdown",
   "id": "53dd2b33",
   "metadata": {},
   "source": [
    "Như vậy ta có thể thấy số track mỗi user tập trung chủ yếu là 1,2,3 track, ta coi như những track được lấy này đại diện cho chính user đó, còn nếu user có nhiều track thì ra sẽ tính trung bình"
   ]
  },
  {
   "cell_type": "markdown",
   "id": "07b90d7e",
   "metadata": {},
   "source": [
    "Bước 2: Xử lý dữ liệu"
   ]
  },
  {
   "cell_type": "code",
   "execution_count": 27,
   "id": "5a833327",
   "metadata": {},
   "outputs": [],
   "source": [
    "average_playcount = track_df.groupby(['User ID']).mean()['Playback Count']\n",
    "\n",
    "temp = average_playcount.index.tolist()\n",
    "\n",
    "user_follower = user_df[user_df['User ID'].isin(temp)].set_index('User ID')\\\n",
    "    .sort_values(by=['User ID'])['Followers Count']\n"
   ]
  },
  {
   "cell_type": "markdown",
   "id": "f119ca83",
   "metadata": {},
   "source": [
    "Bước 3: vẽ đồ thị"
   ]
  },
  {
   "cell_type": "code",
   "execution_count": 28,
   "id": "a750b5e0",
   "metadata": {},
   "outputs": [
    {
     "data": {
      "image/png": "[encoded data removed]",
      "text/plain": [
       "<Figure size 720x576 with 1 Axes>"
      ]
     },
     "metadata": {
      "needs_background": "light"
     },
     "output_type": "display_data"
    }
   ],
   "source": [
    "plt.figure(figsize=(10,8))\n",
    "plt.scatter(user_follower.values,average_playcount.values)\n",
    "plt.title('relationship between follwer of user and average playback count of track')\n",
    "plt.xlabel('number follower of user')\n",
    "plt.ylabel('average playback count of track')\n",
    "plt.show()"
   ]
  },
  {
   "cell_type": "markdown",
   "id": "385a804e",
   "metadata": {},
   "source": [
    "Như vậy ta có thể thấy rằng, lượng follow của user không ảnh hưởng quá nhiều tới số lượt nghe của bài track mà họ đăng lên"
   ]
  },
  {
   "cell_type": "markdown",
   "id": "10f39892",
   "metadata": {},
   "source": [
    "Câu 3: Vậy nếu follower không ảnh hưởng quá nhiều đến lượt nghe của tracks, vậy liệu nó có ảnh hưởng tới lượt like của track không?"
   ]
  },
  {
   "cell_type": "markdown",
   "id": "d40dcd3e",
   "metadata": {},
   "source": [
    "Bước 1: Xử lý dữ liệu: (vì đã kiểm tra dữ liệu ở câu 2 nên câu này không cần kiểm tra lại)"
   ]
  },
  {
   "cell_type": "code",
   "execution_count": 29,
   "id": "0dd6b6f7",
   "metadata": {},
   "outputs": [],
   "source": [
    "average_like = track_df.groupby(['User ID']).mean()['Likes Count']\n",
    "\n",
    "temp = average_like.index.tolist()\n",
    "\n",
    "user_follower = user_df[user_df['User ID'].isin(temp)].set_index('User ID')\\\n",
    "    .sort_values(by=['User ID'])['Followers Count']"
   ]
  },
  {
   "cell_type": "markdown",
   "id": "1fa5f43e",
   "metadata": {},
   "source": [
    "Bước 2: Vẽ đồ thị"
   ]
  },
  {
   "cell_type": "code",
   "execution_count": 30,
   "id": "8606413c",
   "metadata": {},
   "outputs": [
    {
     "data": {
      "image/png": "[encoded data removed]",
      "text/plain": [
       "<Figure size 720x576 with 1 Axes>"
      ]
     },
     "metadata": {
      "needs_background": "light"
     },
     "output_type": "display_data"
    }
   ],
   "source": [
    "plt.figure(figsize=(10,8))\n",
    "plt.scatter(user_follower.values,average_like.values)\n",
    "plt.title('relationship between follwer of user and average like of track')\n",
    "plt.xlabel('number follower of user')\n",
    "plt.ylabel('average like of track')\n",
    "plt.show()"
   ]
  },
  {
   "cell_type": "markdown",
   "id": "eae2fd8c",
   "metadata": {},
   "source": [
    "Cũng giống như lượt nghe, lượt like có vẻ như cũng không chịu ảnh hưởng quá nhiều thông qua số follower của user.\n",
    "\n",
    "=> Qua 3 câu trên ta càng thấy rõ tác dụng mà gói `pro_unlimited` mang lại, việc đề xuất của gói `pro_unlimited` có vẻ như ảnh hưởng rất lớn tới lượt nghe của một track"
   ]
  },
  {
   "cell_type": "markdown",
   "id": "9c09041a",
   "metadata": {},
   "source": [
    "Câu 4: các track được đăng nhiều bởi người dùng từ quốc gia nào nhất? Ta thường thấy rằng nhạc tiếng Anh thường được phổ biến rộng rãi trên toàn cầu hơn những ngôn ngữ khác, vậy có phải những tracks từ người dùng UK hoặc US sẽ chiếm số lượng lớn nhất?"
   ]
  },
  {
   "cell_type": "markdown",
   "id": "9dd0a897",
   "metadata": {},
   "source": [
    "Bước 1:Kiểm tra dữ liệu\n"
   ]
  },
  {
   "cell_type": "markdown",
   "id": "0f44496c",
   "metadata": {},
   "source": [
    "- Dữ liệu có bị thiếu không?"
   ]
  },
  {
   "cell_type": "code",
   "execution_count": 31,
   "id": "f886607c",
   "metadata": {},
   "outputs": [
    {
     "data": {
      "text/plain": [
       "39.6"
      ]
     },
     "execution_count": 31,
     "metadata": {},
     "output_type": "execute_result"
    }
   ],
   "source": [
    "missing_countrycode = (user_df['CountryCode'].isna().sum()/len(user_df)*100).round(1)\n",
    "missing_countrycode"
   ]
  },
  {
   "cell_type": "markdown",
   "id": "181d63f6",
   "metadata": {},
   "source": [
    "Vậy có đến 39.6% người dùng không biết thuộc quốc gia nào. Ta chỉ xét những người dùng mà đã biết về thông tin quốc gia để khảo sát"
   ]
  },
  {
   "cell_type": "markdown",
   "id": "0f7b4908",
   "metadata": {},
   "source": [
    "Xóa những dòng không có giá trị"
   ]
  },
  {
   "cell_type": "code",
   "execution_count": 32,
   "id": "70d6d574",
   "metadata": {},
   "outputs": [],
   "source": [
    "user_df1 = user_df.dropna(subset=['CountryCode'])"
   ]
  },
  {
   "cell_type": "markdown",
   "id": "868b388a",
   "metadata": {},
   "source": [
    "- Có bao nhiêu quốc gia được tìm thấy?"
   ]
  },
  {
   "cell_type": "code",
   "execution_count": 33,
   "id": "5fc84650",
   "metadata": {},
   "outputs": [
    {
     "data": {
      "text/plain": [
       "98"
      ]
     },
     "execution_count": 33,
     "metadata": {},
     "output_type": "execute_result"
    }
   ],
   "source": [
    "\n",
    "number_countrycode = len(user_df1['CountryCode'].unique())\n",
    "number_countrycode"
   ]
  },
  {
   "cell_type": "markdown",
   "id": "2c1af84f",
   "metadata": {},
   "source": [
    "Vậy có 98 quốc gia được tìm thấy"
   ]
  },
  {
   "cell_type": "markdown",
   "id": "65173631",
   "metadata": {},
   "source": [
    "Bước 2: Xử lý dữ liệu"
   ]
  },
  {
   "cell_type": "markdown",
   "id": "f798daaa",
   "metadata": {},
   "source": [
    "- Lấy 2 cột `CountruCode` và `User ID` của `user_df1`"
   ]
  },
  {
   "cell_type": "code",
   "execution_count": 34,
   "id": "fdbc11a5",
   "metadata": {},
   "outputs": [
    {
     "data": {
      "text/html": [
       "<div>\n",
       "<style scoped>\n",
       "    .dataframe tbody tr th:only-of-type {\n",
       "        vertical-align: middle;\n",
       "    }\n",
       "\n",
       "    .dataframe tbody tr th {\n",
       "        vertical-align: top;\n",
       "    }\n",
       "\n",
       "    .dataframe thead th {\n",
       "        text-align: right;\n",
       "    }\n",
       "</style>\n",
       "<table border=\"1\" class=\"dataframe\">\n",
       "  <thead>\n",
       "    <tr style=\"text-align: right;\">\n",
       "      <th></th>\n",
       "      <th>CountryCode</th>\n",
       "      <th>User ID</th>\n",
       "    </tr>\n",
       "  </thead>\n",
       "  <tbody>\n",
       "    <tr>\n",
       "      <th>3</th>\n",
       "      <td>ID</td>\n",
       "      <td>439229406</td>\n",
       "    </tr>\n",
       "    <tr>\n",
       "      <th>6</th>\n",
       "      <td>RU</td>\n",
       "      <td>235975334</td>\n",
       "    </tr>\n",
       "    <tr>\n",
       "      <th>9</th>\n",
       "      <td>BY</td>\n",
       "      <td>87251332</td>\n",
       "    </tr>\n",
       "    <tr>\n",
       "      <th>10</th>\n",
       "      <td>GB</td>\n",
       "      <td>1546189</td>\n",
       "    </tr>\n",
       "    <tr>\n",
       "      <th>11</th>\n",
       "      <td>US</td>\n",
       "      <td>3905732</td>\n",
       "    </tr>\n",
       "    <tr>\n",
       "      <th>...</th>\n",
       "      <td>...</td>\n",
       "      <td>...</td>\n",
       "    </tr>\n",
       "    <tr>\n",
       "      <th>3013</th>\n",
       "      <td>EG</td>\n",
       "      <td>52931057</td>\n",
       "    </tr>\n",
       "    <tr>\n",
       "      <th>3014</th>\n",
       "      <td>SY</td>\n",
       "      <td>102433987</td>\n",
       "    </tr>\n",
       "    <tr>\n",
       "      <th>3015</th>\n",
       "      <td>GB</td>\n",
       "      <td>634712382</td>\n",
       "    </tr>\n",
       "    <tr>\n",
       "      <th>3016</th>\n",
       "      <td>UA</td>\n",
       "      <td>663004713</td>\n",
       "    </tr>\n",
       "    <tr>\n",
       "      <th>3018</th>\n",
       "      <td>US</td>\n",
       "      <td>923013694</td>\n",
       "    </tr>\n",
       "  </tbody>\n",
       "</table>\n",
       "<p>1823 rows × 2 columns</p>\n",
       "</div>"
      ],
      "text/plain": [
       "     CountryCode    User ID\n",
       "3             ID  439229406\n",
       "6             RU  235975334\n",
       "9             BY   87251332\n",
       "10            GB    1546189\n",
       "11            US    3905732\n",
       "...          ...        ...\n",
       "3013          EG   52931057\n",
       "3014          SY  102433987\n",
       "3015          GB  634712382\n",
       "3016          UA  663004713\n",
       "3018          US  923013694\n",
       "\n",
       "[1823 rows x 2 columns]"
      ]
     },
     "execution_count": 34,
     "metadata": {},
     "output_type": "execute_result"
    }
   ],
   "source": [
    "user_of_country = user_df1[['CountryCode','User ID']]\n",
    "user_of_country"
   ]
  },
  {
   "cell_type": "markdown",
   "id": "de04f3be",
   "metadata": {},
   "source": [
    "- Đếm số track của mỗi user"
   ]
  },
  {
   "cell_type": "code",
   "execution_count": 35,
   "id": "419107ce",
   "metadata": {},
   "outputs": [
    {
     "data": {
      "text/html": [
       "<div>\n",
       "<style scoped>\n",
       "    .dataframe tbody tr th:only-of-type {\n",
       "        vertical-align: middle;\n",
       "    }\n",
       "\n",
       "    .dataframe tbody tr th {\n",
       "        vertical-align: top;\n",
       "    }\n",
       "\n",
       "    .dataframe thead th {\n",
       "        text-align: right;\n",
       "    }\n",
       "</style>\n",
       "<table border=\"1\" class=\"dataframe\">\n",
       "  <thead>\n",
       "    <tr style=\"text-align: right;\">\n",
       "      <th></th>\n",
       "      <th>User ID</th>\n",
       "      <th>Track Count</th>\n",
       "    </tr>\n",
       "  </thead>\n",
       "  <tbody>\n",
       "    <tr>\n",
       "      <th>0</th>\n",
       "      <td>203</td>\n",
       "      <td>2</td>\n",
       "    </tr>\n",
       "    <tr>\n",
       "      <th>1</th>\n",
       "      <td>375</td>\n",
       "      <td>2</td>\n",
       "    </tr>\n",
       "    <tr>\n",
       "      <th>2</th>\n",
       "      <td>488</td>\n",
       "      <td>2</td>\n",
       "    </tr>\n",
       "    <tr>\n",
       "      <th>3</th>\n",
       "      <td>901</td>\n",
       "      <td>3</td>\n",
       "    </tr>\n",
       "    <tr>\n",
       "      <th>4</th>\n",
       "      <td>1488</td>\n",
       "      <td>1</td>\n",
       "    </tr>\n",
       "    <tr>\n",
       "      <th>...</th>\n",
       "      <td>...</td>\n",
       "      <td>...</td>\n",
       "    </tr>\n",
       "    <tr>\n",
       "      <th>3014</th>\n",
       "      <td>939075670</td>\n",
       "      <td>1</td>\n",
       "    </tr>\n",
       "    <tr>\n",
       "      <th>3015</th>\n",
       "      <td>952945375</td>\n",
       "      <td>1</td>\n",
       "    </tr>\n",
       "    <tr>\n",
       "      <th>3016</th>\n",
       "      <td>956833984</td>\n",
       "      <td>2</td>\n",
       "    </tr>\n",
       "    <tr>\n",
       "      <th>3017</th>\n",
       "      <td>978555178</td>\n",
       "      <td>1</td>\n",
       "    </tr>\n",
       "    <tr>\n",
       "      <th>3018</th>\n",
       "      <td>1035878080</td>\n",
       "      <td>1</td>\n",
       "    </tr>\n",
       "  </tbody>\n",
       "</table>\n",
       "<p>3019 rows × 2 columns</p>\n",
       "</div>"
      ],
      "text/plain": [
       "         User ID  Track Count\n",
       "0            203            2\n",
       "1            375            2\n",
       "2            488            2\n",
       "3            901            3\n",
       "4           1488            1\n",
       "...          ...          ...\n",
       "3014   939075670            1\n",
       "3015   952945375            1\n",
       "3016   956833984            2\n",
       "3017   978555178            1\n",
       "3018  1035878080            1\n",
       "\n",
       "[3019 rows x 2 columns]"
      ]
     },
     "execution_count": 35,
     "metadata": {},
     "output_type": "execute_result"
    }
   ],
   "source": [
    "track_of_user = track_df.groupby('User ID').count()[['ID']]\n",
    "track_of_user=track_of_user.rename(columns={'ID':'Track Count'})\n",
    "track_of_user=track_of_user.reset_index()\n",
    "track_of_user"
   ]
  },
  {
   "cell_type": "code",
   "execution_count": 36,
   "id": "1bead973",
   "metadata": {},
   "outputs": [
    {
     "data": {
      "text/html": [
       "<div>\n",
       "<style scoped>\n",
       "    .dataframe tbody tr th:only-of-type {\n",
       "        vertical-align: middle;\n",
       "    }\n",
       "\n",
       "    .dataframe tbody tr th {\n",
       "        vertical-align: top;\n",
       "    }\n",
       "\n",
       "    .dataframe thead th {\n",
       "        text-align: right;\n",
       "    }\n",
       "</style>\n",
       "<table border=\"1\" class=\"dataframe\">\n",
       "  <thead>\n",
       "    <tr style=\"text-align: right;\">\n",
       "      <th></th>\n",
       "      <th>Track Count</th>\n",
       "    </tr>\n",
       "    <tr>\n",
       "      <th>CountryCode</th>\n",
       "      <th></th>\n",
       "    </tr>\n",
       "  </thead>\n",
       "  <tbody>\n",
       "    <tr>\n",
       "      <th>AE</th>\n",
       "      <td>3</td>\n",
       "    </tr>\n",
       "    <tr>\n",
       "      <th>AO</th>\n",
       "      <td>1</td>\n",
       "    </tr>\n",
       "    <tr>\n",
       "      <th>AR</th>\n",
       "      <td>15</td>\n",
       "    </tr>\n",
       "    <tr>\n",
       "      <th>AT</th>\n",
       "      <td>16</td>\n",
       "    </tr>\n",
       "    <tr>\n",
       "      <th>AU</th>\n",
       "      <td>57</td>\n",
       "    </tr>\n",
       "    <tr>\n",
       "      <th>...</th>\n",
       "      <td>...</td>\n",
       "    </tr>\n",
       "    <tr>\n",
       "      <th>US</th>\n",
       "      <td>1220</td>\n",
       "    </tr>\n",
       "    <tr>\n",
       "      <th>VC</th>\n",
       "      <td>1</td>\n",
       "    </tr>\n",
       "    <tr>\n",
       "      <th>VE</th>\n",
       "      <td>2</td>\n",
       "    </tr>\n",
       "    <tr>\n",
       "      <th>VN</th>\n",
       "      <td>7</td>\n",
       "    </tr>\n",
       "    <tr>\n",
       "      <th>ZA</th>\n",
       "      <td>14</td>\n",
       "    </tr>\n",
       "  </tbody>\n",
       "</table>\n",
       "<p>98 rows × 1 columns</p>\n",
       "</div>"
      ],
      "text/plain": [
       "             Track Count\n",
       "CountryCode             \n",
       "AE                     3\n",
       "AO                     1\n",
       "AR                    15\n",
       "AT                    16\n",
       "AU                    57\n",
       "...                  ...\n",
       "US                  1220\n",
       "VC                     1\n",
       "VE                     2\n",
       "VN                     7\n",
       "ZA                    14\n",
       "\n",
       "[98 rows x 1 columns]"
      ]
     },
     "execution_count": 36,
     "metadata": {},
     "output_type": "execute_result"
    }
   ],
   "source": [
    "country_track = pd.merge(user_of_country,track_of_user,on='User ID',how = 'inner')\n",
    "country_track = country_track.groupby('CountryCode').sum()[['Track Count']]\n",
    "country_track"
   ]
  },
  {
   "cell_type": "code",
   "execution_count": 37,
   "metadata": {},
   "outputs": [
    {
     "data": {
      "text/html": [
       "<div>\n",
       "<style scoped>\n",
       "    .dataframe tbody tr th:only-of-type {\n",
       "        vertical-align: middle;\n",
       "    }\n",
       "\n",
       "    .dataframe tbody tr th {\n",
       "        vertical-align: top;\n",
       "    }\n",
       "\n",
       "    .dataframe thead th {\n",
       "        text-align: right;\n",
       "    }\n",
       "</style>\n",
       "<table border=\"1\" class=\"dataframe\">\n",
       "  <thead>\n",
       "    <tr style=\"text-align: right;\">\n",
       "      <th></th>\n",
       "      <th>Track Count</th>\n",
       "    </tr>\n",
       "    <tr>\n",
       "      <th>CountryCode</th>\n",
       "      <th></th>\n",
       "    </tr>\n",
       "  </thead>\n",
       "  <tbody>\n",
       "    <tr>\n",
       "      <th>US</th>\n",
       "      <td>1220</td>\n",
       "    </tr>\n",
       "    <tr>\n",
       "      <th>GB</th>\n",
       "      <td>194</td>\n",
       "    </tr>\n",
       "    <tr>\n",
       "      <th>CA</th>\n",
       "      <td>133</td>\n",
       "    </tr>\n",
       "    <tr>\n",
       "      <th>NL</th>\n",
       "      <td>129</td>\n",
       "    </tr>\n",
       "    <tr>\n",
       "      <th>FR</th>\n",
       "      <td>110</td>\n",
       "    </tr>\n",
       "    <tr>\n",
       "      <th>DE</th>\n",
       "      <td>98</td>\n",
       "    </tr>\n",
       "    <tr>\n",
       "      <th>EG</th>\n",
       "      <td>59</td>\n",
       "    </tr>\n",
       "    <tr>\n",
       "      <th>AU</th>\n",
       "      <td>57</td>\n",
       "    </tr>\n",
       "    <tr>\n",
       "      <th>ID</th>\n",
       "      <td>57</td>\n",
       "    </tr>\n",
       "    <tr>\n",
       "      <th>BR</th>\n",
       "      <td>53</td>\n",
       "    </tr>\n",
       "  </tbody>\n",
       "</table>\n",
       "</div>"
      ],
      "text/plain": [
       "             Track Count\n",
       "CountryCode             \n",
       "US                  1220\n",
       "GB                   194\n",
       "CA                   133\n",
       "NL                   129\n",
       "FR                   110\n",
       "DE                    98\n",
       "EG                    59\n",
       "AU                    57\n",
       "ID                    57\n",
       "BR                    53"
      ]
     },
     "execution_count": 37,
     "metadata": {},
     "output_type": "execute_result"
    }
   ],
   "source": [
    "top10country = country_track.sort_values(by='Track Count',ascending=False)[:10]\n",
    "top10country"
   ]
  },
  {
   "cell_type": "code",
   "execution_count": 38,
   "id": "1a7334cc",
   "metadata": {},
   "outputs": [
    {
     "data": {
      "image/png": "[encoded data removed]",
      "text/plain": [
       "<Figure size 432x288 with 1 Axes>"
      ]
     },
     "metadata": {
      "needs_background": "light"
     },
     "output_type": "display_data"
    }
   ],
   "source": [
    "sns.barplot(x=top10country.index,y=top10country['Track Count']);"
   ]
  },
  {
   "cell_type": "markdown",
   "id": "486d1084",
   "metadata": {},
   "source": [
    "Có vẻ như dự đoán đã đúng, những user đến từ những quốc gia dùng ngôn ngữ tiếng anh có số track nhiều nhất"
   ]
  }
 ],
 "metadata": {
  "kernelspec": {
   "display_name": "Python 3 (ipykernel)",
   "language": "python",
   "name": "python3"
  },
  "language_info": {
   "codemirror_mode": {
    "name": "ipython",
    "version": 3
   },
   "file_extension": ".py",
   "mimetype": "text/x-python",
   "name": "python",
   "nbconvert_exporter": "python",
   "pygments_lexer": "ipython3",
   "version": "3.9.7"
  },
  "nbTranslate": {
   "displayLangs": [
    "*"
   ],
   "hotkey": "alt-t",
   "langInMainMenu": true,
   "sourceLang": "en",
   "targetLang": "fr",
   "useGoogleTranslate": true
  },
  "toc": {
   "base_numbering": 1,
   "nav_menu": {},
   "number_sections": true,
   "sideBar": true,
   "skip_h1_title": false,
   "title_cell": "Table of Contents",
   "title_sidebar": "Contents",
   "toc_cell": false,
   "toc_position": {},
   "toc_section_display": true,
   "toc_window_display": false
  }
 },
 "nbformat": 4,
 "nbformat_minor": 5
}
