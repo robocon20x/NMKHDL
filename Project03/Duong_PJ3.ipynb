{
 "cells": [
  {
   "cell_type": "markdown",
   "id": "ecf3106b",
   "metadata": {},
   "source": [
    "# NLP"
   ]
  },
  {
   "cell_type": "code",
   "execution_count": 2,
   "id": "b223e053",
   "metadata": {
    "ExecuteTime": {
     "end_time": "2021-12-26T09:13:29.095403Z",
     "start_time": "2021-12-26T09:13:29.086412Z"
    }
   },
   "outputs": [],
   "source": [
    "import pandas as pd \n",
    "import re\n",
    "import sys\n",
    "import numpy as np\n",
    "\n",
    "from sklearn.feature_extraction.text import TfidfVectorizer\n",
    "from sklearn.linear_model import PassiveAggressiveClassifier\n",
    "from sklearn.model_selection import train_test_split\n",
    "from sklearn.metrics import accuracy_score, confusion_matrix\n",
    "from sklearn.model_selection import cross_val_score\n",
    "\n",
    "from sklearn.neighbors import KNeighborsClassifier\n",
    "from sklearn import neighbors"
   ]
  },
  {
   "cell_type": "code",
   "execution_count": 3,
   "id": "e020b589",
   "metadata": {
    "ExecuteTime": {
     "end_time": "2021-12-26T09:13:35.610845Z",
     "start_time": "2021-12-26T09:13:35.536917Z"
    }
   },
   "outputs": [
    {
     "data": {
      "text/html": [
       "<div>\n",
       "<style scoped>\n",
       "    .dataframe tbody tr th:only-of-type {\n",
       "        vertical-align: middle;\n",
       "    }\n",
       "\n",
       "    .dataframe tbody tr th {\n",
       "        vertical-align: top;\n",
       "    }\n",
       "\n",
       "    .dataframe thead th {\n",
       "        text-align: right;\n",
       "    }\n",
       "</style>\n",
       "<table border=\"1\" class=\"dataframe\">\n",
       "  <thead>\n",
       "    <tr style=\"text-align: right;\">\n",
       "      <th></th>\n",
       "      <th>text</th>\n",
       "      <th>domain</th>\n",
       "      <th>label</th>\n",
       "    </tr>\n",
       "  </thead>\n",
       "  <tbody>\n",
       "    <tr>\n",
       "      <th>0</th>\n",
       "      <td>Thủ tướng Abe cúi đầu xin lỗi vì hành động phi...</td>\n",
       "      <td>binhluan.biz</td>\n",
       "      <td>1</td>\n",
       "    </tr>\n",
       "    <tr>\n",
       "      <th>1</th>\n",
       "      <td>Thủ tướng Nhật cúi đầu xin lỗi vì tinh thần ph...</td>\n",
       "      <td>www.ipick.vn</td>\n",
       "      <td>1</td>\n",
       "    </tr>\n",
       "    <tr>\n",
       "      <th>2</th>\n",
       "      <td>Choáng! Cơ trưởng đeo khăn quàng quẩy banh nóc...</td>\n",
       "      <td>tintucqpvn.net</td>\n",
       "      <td>1</td>\n",
       "    </tr>\n",
       "    <tr>\n",
       "      <th>3</th>\n",
       "      <td>Chưa bao giờ nhạc Kpop lại dễ hát đến thế!!!\\n...</td>\n",
       "      <td>tintucqpvn.net</td>\n",
       "      <td>1</td>\n",
       "    </tr>\n",
       "    <tr>\n",
       "      <th>4</th>\n",
       "      <td>Đại học Hutech sẽ áp dụng cải cách \"Tiếq Việt\"...</td>\n",
       "      <td>www.gioitreviet.net</td>\n",
       "      <td>1</td>\n",
       "    </tr>\n",
       "  </tbody>\n",
       "</table>\n",
       "</div>"
      ],
      "text/plain": [
       "                                                text               domain  \\\n",
       "0  Thủ tướng Abe cúi đầu xin lỗi vì hành động phi...         binhluan.biz   \n",
       "1  Thủ tướng Nhật cúi đầu xin lỗi vì tinh thần ph...         www.ipick.vn   \n",
       "2  Choáng! Cơ trưởng đeo khăn quàng quẩy banh nóc...       tintucqpvn.net   \n",
       "3  Chưa bao giờ nhạc Kpop lại dễ hát đến thế!!!\\n...       tintucqpvn.net   \n",
       "4  Đại học Hutech sẽ áp dụng cải cách \"Tiếq Việt\"...  www.gioitreviet.net   \n",
       "\n",
       "   label  \n",
       "0      1  \n",
       "1      1  \n",
       "2      1  \n",
       "3      1  \n",
       "4      1  "
      ]
     },
     "execution_count": 3,
     "metadata": {},
     "output_type": "execute_result"
    }
   ],
   "source": [
    "df = pd.read_csv('data.csv')\n",
    "df.head()"
   ]
  },
  {
   "cell_type": "code",
   "execution_count": 4,
   "id": "77b58a20",
   "metadata": {
    "ExecuteTime": {
     "end_time": "2021-12-26T03:04:18.695723Z",
     "start_time": "2021-12-26T03:04:18.681736Z"
    }
   },
   "outputs": [],
   "source": [
    "# !pip install underthesea"
   ]
  },
  {
   "cell_type": "code",
   "execution_count": 5,
   "id": "b136959a",
   "metadata": {
    "ExecuteTime": {
     "end_time": "2021-12-26T02:59:52.413306Z",
     "start_time": "2021-12-26T02:59:52.397317Z"
    }
   },
   "outputs": [],
   "source": [
    "df1 = df.copy()"
   ]
  },
  {
   "cell_type": "markdown",
   "id": "54454a90",
   "metadata": {},
   "source": [
    "# Tiền xử lý"
   ]
  },
  {
   "cell_type": "markdown",
   "id": "157accbe",
   "metadata": {},
   "source": [
    "## Lower case"
   ]
  },
  {
   "cell_type": "code",
   "execution_count": 6,
   "id": "adfb1f97",
   "metadata": {
    "ExecuteTime": {
     "end_time": "2021-12-26T09:13:44.082098Z",
     "start_time": "2021-12-26T09:13:43.998178Z"
    }
   },
   "outputs": [],
   "source": [
    "df1['text'] = df1['text'].apply(lambda x: \" \".join(x.lower() for x in x.split()))"
   ]
  },
  {
   "cell_type": "code",
   "execution_count": 7,
   "id": "80a00a2c",
   "metadata": {
    "ExecuteTime": {
     "end_time": "2021-12-26T09:13:44.505886Z",
     "start_time": "2021-12-26T09:13:44.479908Z"
    }
   },
   "outputs": [
    {
     "data": {
      "text/html": [
       "<div>\n",
       "<style scoped>\n",
       "    .dataframe tbody tr th:only-of-type {\n",
       "        vertical-align: middle;\n",
       "    }\n",
       "\n",
       "    .dataframe tbody tr th {\n",
       "        vertical-align: top;\n",
       "    }\n",
       "\n",
       "    .dataframe thead th {\n",
       "        text-align: right;\n",
       "    }\n",
       "</style>\n",
       "<table border=\"1\" class=\"dataframe\">\n",
       "  <thead>\n",
       "    <tr style=\"text-align: right;\">\n",
       "      <th></th>\n",
       "      <th>text</th>\n",
       "      <th>domain</th>\n",
       "      <th>label</th>\n",
       "    </tr>\n",
       "  </thead>\n",
       "  <tbody>\n",
       "    <tr>\n",
       "      <th>0</th>\n",
       "      <td>thủ tướng abe cúi đầu xin lỗi vì hành động phi...</td>\n",
       "      <td>binhluan.biz</td>\n",
       "      <td>1</td>\n",
       "    </tr>\n",
       "    <tr>\n",
       "      <th>1</th>\n",
       "      <td>thủ tướng nhật cúi đầu xin lỗi vì tinh thần ph...</td>\n",
       "      <td>www.ipick.vn</td>\n",
       "      <td>1</td>\n",
       "    </tr>\n",
       "    <tr>\n",
       "      <th>2</th>\n",
       "      <td>choáng! cơ trưởng đeo khăn quàng quẩy banh nóc...</td>\n",
       "      <td>tintucqpvn.net</td>\n",
       "      <td>1</td>\n",
       "    </tr>\n",
       "    <tr>\n",
       "      <th>3</th>\n",
       "      <td>chưa bao giờ nhạc kpop lại dễ hát đến thế!!! g...</td>\n",
       "      <td>tintucqpvn.net</td>\n",
       "      <td>1</td>\n",
       "    </tr>\n",
       "    <tr>\n",
       "      <th>4</th>\n",
       "      <td>đại học hutech sẽ áp dụng cải cách \"tiếq việt\"...</td>\n",
       "      <td>www.gioitreviet.net</td>\n",
       "      <td>1</td>\n",
       "    </tr>\n",
       "  </tbody>\n",
       "</table>\n",
       "</div>"
      ],
      "text/plain": [
       "                                                text               domain  \\\n",
       "0  thủ tướng abe cúi đầu xin lỗi vì hành động phi...         binhluan.biz   \n",
       "1  thủ tướng nhật cúi đầu xin lỗi vì tinh thần ph...         www.ipick.vn   \n",
       "2  choáng! cơ trưởng đeo khăn quàng quẩy banh nóc...       tintucqpvn.net   \n",
       "3  chưa bao giờ nhạc kpop lại dễ hát đến thế!!! g...       tintucqpvn.net   \n",
       "4  đại học hutech sẽ áp dụng cải cách \"tiếq việt\"...  www.gioitreviet.net   \n",
       "\n",
       "   label  \n",
       "0      1  \n",
       "1      1  \n",
       "2      1  \n",
       "3      1  \n",
       "4      1  "
      ]
     },
     "execution_count": 7,
     "metadata": {},
     "output_type": "execute_result"
    }
   ],
   "source": [
    "df1.head()"
   ]
  },
  {
   "cell_type": "markdown",
   "id": "94aa8980",
   "metadata": {},
   "source": [
    "## Remove stopwords"
   ]
  },
  {
   "cell_type": "markdown",
   "id": "1dd04e1d",
   "metadata": {},
   "source": [
    "file **vietnamese_stopwords.txt** lấy từ [link github](https://github.com/stopwords/vietnamese-stopwords/blob/master/vietnamese-stopwords.txt)"
   ]
  },
  {
   "cell_type": "code",
   "execution_count": 8,
   "id": "50697536",
   "metadata": {
    "ExecuteTime": {
     "end_time": "2021-12-26T09:14:09.500584Z",
     "start_time": "2021-12-26T09:14:09.470608Z"
    }
   },
   "outputs": [],
   "source": [
    "def get_stopwords_list(stop_file_path):\n",
    "    \"\"\"load stop words \"\"\"\n",
    "    with open(stop_file_path, 'r', encoding=\"utf-8\") as f:\n",
    "        stopwords = f.readlines()\n",
    "        stop_set = set(m.strip() for m in stopwords)\n",
    "        return list(frozenset(stop_set))\n",
    "vietnamese = get_stopwords_list('vietnamese_stopwords.txt')"
   ]
  },
  {
   "cell_type": "code",
   "execution_count": 9,
   "id": "af12858a",
   "metadata": {
    "ExecuteTime": {
     "end_time": "2021-12-26T09:15:19.867062Z",
     "start_time": "2021-12-26T09:15:19.798135Z"
    }
   },
   "outputs": [
    {
     "data": {
      "text/html": [
       "<div>\n",
       "<style scoped>\n",
       "    .dataframe tbody tr th:only-of-type {\n",
       "        vertical-align: middle;\n",
       "    }\n",
       "\n",
       "    .dataframe tbody tr th {\n",
       "        vertical-align: top;\n",
       "    }\n",
       "\n",
       "    .dataframe thead th {\n",
       "        text-align: right;\n",
       "    }\n",
       "</style>\n",
       "<table border=\"1\" class=\"dataframe\">\n",
       "  <thead>\n",
       "    <tr style=\"text-align: right;\">\n",
       "      <th></th>\n",
       "      <th>text</th>\n",
       "      <th>domain</th>\n",
       "      <th>label</th>\n",
       "    </tr>\n",
       "  </thead>\n",
       "  <tbody>\n",
       "    <tr>\n",
       "      <th>0</th>\n",
       "      <td>thủ tướng abe cúi đầu xin lỗi vì hành động phi...</td>\n",
       "      <td>binhluan.biz</td>\n",
       "      <td>1</td>\n",
       "    </tr>\n",
       "    <tr>\n",
       "      <th>1</th>\n",
       "      <td>thủ tướng nhật cúi đầu xin lỗi vì tinh thần ph...</td>\n",
       "      <td>www.ipick.vn</td>\n",
       "      <td>1</td>\n",
       "    </tr>\n",
       "    <tr>\n",
       "      <th>2</th>\n",
       "      <td>choáng! cơ trưởng đeo khăn quàng quẩy banh nóc...</td>\n",
       "      <td>tintucqpvn.net</td>\n",
       "      <td>1</td>\n",
       "    </tr>\n",
       "    <tr>\n",
       "      <th>3</th>\n",
       "      <td>chưa bao giờ nhạc kpop lại dễ hát đến thế!!! g...</td>\n",
       "      <td>tintucqpvn.net</td>\n",
       "      <td>1</td>\n",
       "    </tr>\n",
       "    <tr>\n",
       "      <th>4</th>\n",
       "      <td>đại học hutech sẽ áp dụng cải cách \"tiếq việt\"...</td>\n",
       "      <td>www.gioitreviet.net</td>\n",
       "      <td>1</td>\n",
       "    </tr>\n",
       "  </tbody>\n",
       "</table>\n",
       "</div>"
      ],
      "text/plain": [
       "                                                text               domain  \\\n",
       "0  thủ tướng abe cúi đầu xin lỗi vì hành động phi...         binhluan.biz   \n",
       "1  thủ tướng nhật cúi đầu xin lỗi vì tinh thần ph...         www.ipick.vn   \n",
       "2  choáng! cơ trưởng đeo khăn quàng quẩy banh nóc...       tintucqpvn.net   \n",
       "3  chưa bao giờ nhạc kpop lại dễ hát đến thế!!! g...       tintucqpvn.net   \n",
       "4  đại học hutech sẽ áp dụng cải cách \"tiếq việt\"...  www.gioitreviet.net   \n",
       "\n",
       "   label  \n",
       "0      1  \n",
       "1      1  \n",
       "2      1  \n",
       "3      1  \n",
       "4      1  "
      ]
     },
     "execution_count": 9,
     "metadata": {},
     "output_type": "execute_result"
    }
   ],
   "source": [
    "len(vietnamese)\n",
    "df1.head()\n"
   ]
  },
  {
   "cell_type": "code",
   "execution_count": 10,
   "id": "9c694288",
   "metadata": {},
   "outputs": [],
   "source": [
    "temp = vietnamese.copy()\n",
    "temp.sort()\n",
    "temp.reverse()"
   ]
  },
  {
   "cell_type": "code",
   "execution_count": 11,
   "id": "de4201aa",
   "metadata": {},
   "outputs": [],
   "source": [
    "with open('temp.txt','w',encoding=\"utf-8\") as out:\n",
    "    for i in temp:\n",
    "        out.write(i+'\\n')\n",
    "        \n"
   ]
  },
  {
   "cell_type": "code",
   "execution_count": 12,
   "id": "bb6fbcf5",
   "metadata": {},
   "outputs": [],
   "source": [
    "temp = vietnamese.copy()\n",
    "temp.sort()\n",
    "temp.reverse()\n",
    "\n",
    "def drop_stopwords(text):\n",
    "    text_list = text.split()\n",
    "    text_len = len(text_list)\n",
    "    for word in temp:\n",
    "        word_list = word.split()\n",
    "        word_len = len(word_list)\n",
    "        for i in range(text_len + 1 - word_len):\n",
    "            if text_list[i:i+word_len] == word_list:\n",
    "                text_list[i:i+word_len] = [None] * word_len\n",
    "    return ' '.join(t for t in text_list if t)"
   ]
  },
  {
   "cell_type": "code",
   "execution_count": 13,
   "id": "47abff63",
   "metadata": {},
   "outputs": [
    {
     "data": {
      "text/plain": [
       "'thủ tướng abe cúi đầu lỗi hành động phi thể thao tuyển nhật sankei sports, thủ tướng nhật shinzo abe công khai gửi lỗi nhật hoàng toàn dân tinh thần thi đấu phi thể thao đội tuyển nhật world cup 2018. tối qua, lượt trận vòng bảng world cup 2018, nhật phụ senegal, đội thua colombia. nhật vòng fair-play thẻ phạt hơn. thủ tướng nhật shinzo abe cúi đầu lỗi. “với tinh thần võ sĩ đạo samurai, đội tuyển nhật hành động tinh thần thượng võ thi đấu world cup, trích bất bình toàn dân, hình ảnh kiên cường dân nhật đấu trường quốc tế. đứng đầu, thành trách nhiệm gửi lỗi sâu sắc nhân dân.”, abe cúi đầu trách nhiệm mình. nhật nổi tiếng tinh thần, trách nhiệm chất võ sĩ đạo. đội tuyển áo xanh mệnh danh “samurai xanh”. nhiên, nhật trích dội hâm mộ bóng đá lối bóng tiêu cực, cố tình câu vé đi tiếp. cụ thể, phút trận vòng bảng lan, trận giờ, colombia thắng senegal tỷ 1-0 tỉ tương tự, cầu thủ nhật hề gỡ hòa. cầu thủ nhật vui vẻ trận thua lan 0-1, vé vòng 16 đội. world cup 2018, fifa fair play, quy định 1 thẻ vàng -1 điểm; 2 thẻ vàng thành thẻ đỏ -3 điểm; thẻ đỏ -4 điểm. nhật 4 thẻ vàng senegal 6. sợ lãnh thẻ vàng nhật giết chết trận đấu phút cuối. liên tục chuyền bóng sân nhà. 5 phút cuối, cầu thủ nhật bóng sân đối phương, bất chấp la ó, huýt sáo cđv sân. thầy trò hlv akira nishino dư luận trích. kết trên, nhật colombia hai đội đi tiếp bảng h. vòng trực tiếp, nhật đối đầu đối thủ cực đt bỉ. đó, đội đi tiếp nhật colombia đt anh.'"
      ]
     },
     "execution_count": 13,
     "metadata": {},
     "output_type": "execute_result"
    }
   ],
   "source": [
    "drop_stopwords(df1.text[0])"
   ]
  },
  {
   "cell_type": "code",
   "execution_count": 14,
   "id": "4382001c",
   "metadata": {
    "ExecuteTime": {
     "end_time": "2021-12-26T09:14:13.906819Z",
     "start_time": "2021-12-26T09:14:10.254260Z"
    }
   },
   "outputs": [],
   "source": [
    "\n",
    "df1['text'] = df1['text'].apply(drop_stopwords)"
   ]
  },
  {
   "cell_type": "code",
   "execution_count": 15,
   "id": "ad9defef",
   "metadata": {
    "ExecuteTime": {
     "end_time": "2021-12-26T03:07:57.943962Z",
     "start_time": "2021-12-26T03:07:57.926974Z"
    }
   },
   "outputs": [
    {
     "data": {
      "text/html": [
       "<div>\n",
       "<style scoped>\n",
       "    .dataframe tbody tr th:only-of-type {\n",
       "        vertical-align: middle;\n",
       "    }\n",
       "\n",
       "    .dataframe tbody tr th {\n",
       "        vertical-align: top;\n",
       "    }\n",
       "\n",
       "    .dataframe thead th {\n",
       "        text-align: right;\n",
       "    }\n",
       "</style>\n",
       "<table border=\"1\" class=\"dataframe\">\n",
       "  <thead>\n",
       "    <tr style=\"text-align: right;\">\n",
       "      <th></th>\n",
       "      <th>text</th>\n",
       "      <th>domain</th>\n",
       "      <th>label</th>\n",
       "    </tr>\n",
       "  </thead>\n",
       "  <tbody>\n",
       "    <tr>\n",
       "      <th>0</th>\n",
       "      <td>thủ tướng abe cúi đầu lỗi hành động phi thể th...</td>\n",
       "      <td>binhluan.biz</td>\n",
       "      <td>1</td>\n",
       "    </tr>\n",
       "    <tr>\n",
       "      <th>1</th>\n",
       "      <td>thủ tướng nhật cúi đầu lỗi tinh thần phi thể t...</td>\n",
       "      <td>www.ipick.vn</td>\n",
       "      <td>1</td>\n",
       "    </tr>\n",
       "    <tr>\n",
       "      <th>2</th>\n",
       "      <td>choáng! trưởng đeo khăn quàng quẩy banh sân kh...</td>\n",
       "      <td>tintucqpvn.net</td>\n",
       "      <td>1</td>\n",
       "    </tr>\n",
       "    <tr>\n",
       "      <th>3</th>\n",
       "      <td>bao nhạc kpop hát thế!!! giáo sư nguyễn lân dũ...</td>\n",
       "      <td>tintucqpvn.net</td>\n",
       "      <td>1</td>\n",
       "    </tr>\n",
       "    <tr>\n",
       "      <th>4</th>\n",
       "      <td>đại học hutech áp dụng cải \"tiếq việt\" học 201...</td>\n",
       "      <td>www.gioitreviet.net</td>\n",
       "      <td>1</td>\n",
       "    </tr>\n",
       "  </tbody>\n",
       "</table>\n",
       "</div>"
      ],
      "text/plain": [
       "                                                text               domain  \\\n",
       "0  thủ tướng abe cúi đầu lỗi hành động phi thể th...         binhluan.biz   \n",
       "1  thủ tướng nhật cúi đầu lỗi tinh thần phi thể t...         www.ipick.vn   \n",
       "2  choáng! trưởng đeo khăn quàng quẩy banh sân kh...       tintucqpvn.net   \n",
       "3  bao nhạc kpop hát thế!!! giáo sư nguyễn lân dũ...       tintucqpvn.net   \n",
       "4  đại học hutech áp dụng cải \"tiếq việt\" học 201...  www.gioitreviet.net   \n",
       "\n",
       "   label  \n",
       "0      1  \n",
       "1      1  \n",
       "2      1  \n",
       "3      1  \n",
       "4      1  "
      ]
     },
     "execution_count": 15,
     "metadata": {},
     "output_type": "execute_result"
    }
   ],
   "source": [
    "df1.head()"
   ]
  },
  {
   "cell_type": "markdown",
   "id": "ea85edea",
   "metadata": {},
   "source": [
    "## Remove noise\n",
    "(HTML tag, các ký hiệu đặc biệt như @, #,...)"
   ]
  },
  {
   "cell_type": "code",
   "execution_count": null,
   "id": "93507627",
   "metadata": {
    "ExecuteTime": {
     "end_time": "2021-12-26T09:19:33.409747Z",
     "start_time": "2021-12-26T09:19:33.386772Z"
    }
   },
   "outputs": [],
   "source": [
    "TAG_1 = re.compile(r'<[^>]+>')\n",
    "TAG_2 = re.compile(\"[@#$]\")\n",
    "df2 = df1.copy()\n",
    "def remove_tags(text):\n",
    "    text = TAG_1.sub('', text)\n",
    "    return TAG_2.sub('', text)\n",
    "df2['text'] = df2['text'].apply(remove_tags)\n"
   ]
  },
  {
   "cell_type": "code",
   "execution_count": null,
   "id": "8f024e78",
   "metadata": {
    "ExecuteTime": {
     "end_time": "2021-12-26T09:18:40.841830Z",
     "start_time": "2021-12-26T09:18:40.821848Z"
    }
   },
   "outputs": [],
   "source": [
    "df2['text']"
   ]
  },
  {
   "cell_type": "code",
   "execution_count": null,
   "id": "1c1876a9",
   "metadata": {},
   "outputs": [],
   "source": []
  },
  {
   "cell_type": "markdown",
   "id": "3cf2baec",
   "metadata": {},
   "source": [
    "## Remove punctuation (loại bỏ dấu câu)"
   ]
  },
  {
   "cell_type": "code",
   "execution_count": null,
   "id": "42983b1f",
   "metadata": {
    "ExecuteTime": {
     "end_time": "2021-12-26T03:08:34.625322Z",
     "start_time": "2021-12-26T03:08:34.589354Z"
    }
   },
   "outputs": [],
   "source": [
    "df1['text'] = df1['text'].apply(lambda x: re.sub(r'[^\\w\\s]', '', x))"
   ]
  },
  {
   "cell_type": "code",
   "execution_count": null,
   "id": "e939aee0",
   "metadata": {
    "ExecuteTime": {
     "end_time": "2021-12-26T03:08:35.254345Z",
     "start_time": "2021-12-26T03:08:35.245348Z"
    }
   },
   "outputs": [],
   "source": [
    "df1['text'][0]"
   ]
  },
  {
   "cell_type": "code",
   "execution_count": null,
   "id": "cf6b7640",
   "metadata": {
    "ExecuteTime": {
     "end_time": "2021-12-26T03:36:59.688133Z",
     "start_time": "2021-12-26T03:36:59.250538Z"
    }
   },
   "outputs": [],
   "source": [
    "from underthesea import pos_tag\n",
    "pos_tag(df1['text'][0])"
   ]
  },
  {
   "cell_type": "code",
   "execution_count": null,
   "id": "649934c4",
   "metadata": {},
   "outputs": [],
   "source": [
    "label = df1.label\n",
    "conversion_dict = {0:'Real', 1:'Fake'}\n",
    "label = label.replace(conversion_dict)"
   ]
  },
  {
   "cell_type": "code",
   "execution_count": null,
   "id": "e1791e30",
   "metadata": {},
   "outputs": [],
   "source": [
    "x_train,x_test,y_train,y_test = train_test_split(df1.text,label,test_size=0.3,random_state=17)"
   ]
  },
  {
   "cell_type": "code",
   "execution_count": null,
   "id": "6207a352",
   "metadata": {},
   "outputs": [],
   "source": [
    "tfidf_vectorizer=TfidfVectorizer(max_df=0.7)\n",
    "tfidf_train=tfidf_vectorizer.fit_transform(x_train.values.astype('U'))\n",
    "tfidf_test=tfidf_vectorizer.transform(x_test.values.astype('U'))"
   ]
  },
  {
   "cell_type": "markdown",
   "id": "251a2787",
   "metadata": {},
   "source": [
    "PAC\n"
   ]
  },
  {
   "cell_type": "code",
   "execution_count": null,
   "id": "c3bb5f54",
   "metadata": {},
   "outputs": [],
   "source": [
    "pac=PassiveAggressiveClassifier(max_iter=50)\n",
    "pac.fit(tfidf_train,y_train)\n",
    "\n"
   ]
  },
  {
   "cell_type": "code",
   "execution_count": null,
   "id": "213859c7",
   "metadata": {},
   "outputs": [],
   "source": [
    "y_pred=pac.predict(tfidf_test)\n",
    "score=accuracy_score(y_test,y_pred)\n",
    "print(f'Accuracy: {round(score*100,2)}%')"
   ]
  },
  {
   "cell_type": "code",
   "execution_count": null,
   "id": "a557aed9",
   "metadata": {},
   "outputs": [],
   "source": [
    "confusion_matrix(y_test,y_pred,labels=['Real','Fake'])"
   ]
  },
  {
   "cell_type": "code",
   "execution_count": null,
   "id": "f850f968",
   "metadata": {},
   "outputs": [],
   "source": [
    "X= tfidf_vectorizer.transform(df1.text.values.astype('U'))"
   ]
  },
  {
   "cell_type": "code",
   "execution_count": null,
   "id": "6c7a6ca3",
   "metadata": {},
   "outputs": [],
   "source": [
    "scores = cross_val_score(pac, X, df['label'].values,cv=5)\n",
    "print(f'K Fold Accuracy: {round(scores.mean()*100,2)}%')"
   ]
  },
  {
   "cell_type": "code",
   "execution_count": null,
   "id": "df3495cc",
   "metadata": {},
   "outputs": [],
   "source": [
    "def findlabel(text):\n",
    "    vec_test =  tfidf_vectorizer.transform([text])\n",
    "    y_pred = pac.predict(vec_test)\n",
    "    return y_pred[0]"
   ]
  },
  {
   "cell_type": "code",
   "execution_count": null,
   "id": "b5545c5c",
   "metadata": {},
   "outputs": [],
   "source": [
    "findlabel(df1.text[100])"
   ]
  },
  {
   "cell_type": "markdown",
   "id": "3a7d242e",
   "metadata": {},
   "source": [
    "CLF"
   ]
  },
  {
   "cell_type": "code",
   "execution_count": null,
   "id": "873985f6",
   "metadata": {},
   "outputs": [],
   "source": [
    "\n",
    "clf = KNeighborsClassifier()\n",
    "clf.fit(tfidf_train,y_train)"
   ]
  },
  {
   "cell_type": "code",
   "execution_count": null,
   "id": "f742086d",
   "metadata": {},
   "outputs": [],
   "source": [
    "y_pred=clf.predict(tfidf_test)\n",
    "score=accuracy_score(y_test,y_pred)\n",
    "print(f'Accuracy: {round(score*100,2)}%')"
   ]
  },
  {
   "cell_type": "code",
   "execution_count": null,
   "id": "70420a21",
   "metadata": {},
   "outputs": [],
   "source": [
    "confusion_matrix(y_test,y_pred,labels=['Real','Fake'])"
   ]
  },
  {
   "cell_type": "code",
   "execution_count": null,
   "id": "fe4756b4",
   "metadata": {},
   "outputs": [],
   "source": [
    "X= tfidf_vectorizer.transform(df1.text.values.astype('U'))"
   ]
  },
  {
   "cell_type": "code",
   "execution_count": null,
   "id": "63c8f715",
   "metadata": {},
   "outputs": [],
   "source": [
    "scores = cross_val_score(clf, X, df['label'].values,cv=5)\n",
    "print(f'K Fold Accuracy: {round(scores.mean()*100,2)}%')"
   ]
  },
  {
   "cell_type": "code",
   "execution_count": null,
   "id": "bcd14422",
   "metadata": {},
   "outputs": [],
   "source": [
    "def findlabel1(text):\n",
    "    vec_test =  tfidf_vectorizer.transform([text])\n",
    "    y_pred = clf.predict(vec_test)\n",
    "    return y_pred[0]"
   ]
  },
  {
   "cell_type": "code",
   "execution_count": null,
   "id": "0168f683",
   "metadata": {},
   "outputs": [],
   "source": [
    "findlabel1(df1.text[100])"
   ]
  }
 ],
 "metadata": {
  "kernelspec": {
   "display_name": "Python 3 (ipykernel)",
   "language": "python",
   "name": "python3"
  },
  "language_info": {
   "codemirror_mode": {
    "name": "ipython",
    "version": 3
   },
   "file_extension": ".py",
   "mimetype": "text/x-python",
   "name": "python",
   "nbconvert_exporter": "python",
   "pygments_lexer": "ipython3",
   "version": "3.9.7"
  },
  "toc": {
   "base_numbering": 1,
   "nav_menu": {},
   "number_sections": true,
   "sideBar": true,
   "skip_h1_title": false,
   "title_cell": "Table of Contents",
   "title_sidebar": "Contents",
   "toc_cell": false,
   "toc_position": {},
   "toc_section_display": true,
   "toc_window_display": false
  }
 },
 "nbformat": 4,
 "nbformat_minor": 5
}
