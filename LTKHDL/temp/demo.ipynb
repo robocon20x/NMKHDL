{
 "cells": [
  {
   "cell_type": "markdown",
   "metadata": {},
   "source": [
    "# Link github:"
   ]
  },
  {
   "cell_type": "markdown",
   "metadata": {},
   "source": [
    "https://github.com/npqd/P4DS_FinalProject.git"
   ]
  },
  {
   "cell_type": "markdown",
   "metadata": {},
   "source": [
    "---"
   ]
  },
  {
   "cell_type": "markdown",
   "metadata": {},
   "source": [
    "# Import thư viện cần thiết"
   ]
  },
  {
   "cell_type": "code",
   "execution_count": 2,
   "metadata": {},
   "outputs": [],
   "source": [
    "import pandas as pd\n",
    "import numpy as np\n",
    "import matplotlib.pyplot as plt\n",
    "import seaborn as sns"
   ]
  },
  {
   "cell_type": "markdown",
   "metadata": {},
   "source": [
    "---"
   ]
  },
  {
   "cell_type": "markdown",
   "metadata": {},
   "source": [
    "# Thu thập dữ liệu"
   ]
  },
  {
   "cell_type": "markdown",
   "metadata": {},
   "source": [
    "### Mô tả cơ bản về dữ liệu"
   ]
  },
  {
   "cell_type": "markdown",
   "metadata": {},
   "source": [
    "- Dữ liệu của hơn 40,000 trận đấu bóng đá quốc tế từ 1872-2019\n",
    "- Tên các quốc gia theo lục địa\n",
    "- Tên khác/ cũ của các quốc gia "
   ]
  },
  {
   "cell_type": "markdown",
   "metadata": {},
   "source": [
    "### Mục đích chọn dữ liệu"
   ]
  },
  {
   "cell_type": "markdown",
   "metadata": {},
   "source": [
    "- Bóng đá trước giờ vẫn luôn là môn thể thao vua và luôn được mọi người quan tâm nhiều nhất. Qua dữ liệu đã có, ta có thể biết được tình hình phát triển bóng đá của các quốc gia, sự thay đổi về vị thế bóng đá của các nước qua các năm. Ngoài ra thông qua lịch sử đối đầu, chúng ta có thể dự đoán được phần nào các kết quả trong tương lai\n",
    "- Data tên quốc gia theo lục địa để so sánh các quốc gia trong cùng khu vực bóng đá\n",
    "- Data các tên gọi của quốc gia để quy ước tên các quốc gia trong dữ liệu là tên hiện tại của quốc gia đó"
   ]
  },
  {
   "cell_type": "markdown",
   "metadata": {},
   "source": [
    "### Mô tả chi tiết dữ liệu"
   ]
  },
  {
   "cell_type": "markdown",
   "metadata": {},
   "source": [
    "- `result.csv` Dữ liệu chứa 42,899 kết quả của các trận đá bóng quốc tế từ năm 1872 đến 2019. Từ những giải đấu được tổ chức bởi FIFA World Cup đến những giải đấu châu lục cho đến cả những giải đấu giao hữu. Đây là dữ liệu của những trận bóng đá nam, không bao gồm những giải đấu như Olympic hoặc của những đội hình phụ hoặc U23... hoặc là các giải đấu trong nước.\n",
    "- `country_continent` Phân nhóm các quốc gia theo tên các châu lục, các vùng của một châu lục\n",
    "- `country_allname` [wiki_name](https://en.wikipedia.org/wiki/List_of_alternative_country_names) các tên gọi thay thế, hoặc tên gọi trong quá khứ của từng quốc gia"
   ]
  },
  {
   "cell_type": "markdown",
   "metadata": {},
   "source": [
    "#### `result.csv`"
   ]
  },
  {
   "cell_type": "markdown",
   "metadata": {},
   "source": [
    "- `date` - ngày diễn ra trận đấu\n",
    "- `home_team` - tên của đội chủ nhà\n",
    "- `away_team` - tên của đội khách\n",
    "- `home_score` - số bàn thắng đội chủ nhà ghi được bao gồm thời gian thi đấu chính thức và hiệp phụ, không tính loạt luân lưu\n",
    "- `away_score` - số bàn thắng đội khách ghi được bao gồm thời gian thi đấu chính thức và hiệp phụ, không tính loạt luân lưu\n",
    "- `tournament` - tên của giải đấu\n",
    "- `city` - tên của thành phố trận đấu diễn ra\n",
    "- `country` - tên của quốc gia mà trận đấu diễn ra\n",
    "- `neutral` - cột TRUE/FALSE , nếu được tỏ trức ở một sân trung lập thì trả về giá trị TRUE\n",
    "\n",
    "* **Lưu ý:**\n",
    "    - `home_team` và `away_team` là tên hiện tại của đội. Ví dụ năm 1882, tên đội `Ireland` đá với `England` thì trong data này sẽ được gọi là `Northern Ireland` bởi vì đây là tên hiện tại của đội tuyển `Ireland` năm 1882. Việc quy ước này để có thể dễ dàng lấy thống kê\n",
    "    - `country` sẽ là tên của quốc gia lúc diễn ra trận đấu. Vào những năm 1950, `Ghana` tuy đá ở `Gold Coast` nhưng vẫn là đội chủ nhà do cột `neutral` trả về giá trị FALSE\n"
   ]
  },
  {
   "cell_type": "markdown",
   "metadata": {},
   "source": [
    "#### `country_continent.csv`"
   ]
  },
  {
   "cell_type": "markdown",
   "metadata": {},
   "source": [
    "-   `Country` : Tên quốc gia, lãnh thổ theo FIFA\n",
    "-   `Code`: Mã của quốc gia theo FIFA\n",
    "-   `Continent`: Tên lục địa"
   ]
  },
  {
   "cell_type": "markdown",
   "metadata": {},
   "source": [
    "### Nguồn thu thập dữ liệu"
   ]
  },
  {
   "cell_type": "markdown",
   "metadata": {},
   "source": [
    "[result](https://www.kaggle.com/martj42/international-football-results-from-1872-to-2017)\n",
    "\n",
    "[country_continent](https://en.wikipedia.org/wiki/Geography_of_association_football)\n",
    "\n",
    "<!-- [country_allname](https://github.com/aaronschiff/country-names/blob/master/country-names-cross-ref.csv) -->"
   ]
  },
  {
   "cell_type": "markdown",
   "metadata": {},
   "source": [
    "---"
   ]
  },
  {
   "cell_type": "markdown",
   "metadata": {},
   "source": [
    "# Khám phá dữ liệu"
   ]
  },
  {
   "cell_type": "markdown",
   "metadata": {},
   "source": [
    "### Đọc dữ liệu"
   ]
  },
  {
   "cell_type": "markdown",
   "metadata": {},
   "source": [
    "Đọc dữ liệu các trận đấu vào `df_match`"
   ]
  },
  {
   "cell_type": "code",
   "execution_count": 6,
   "metadata": {},
   "outputs": [
    {
     "data": {
      "text/html": [
       "<div>\n",
       "<style scoped>\n",
       "    .dataframe tbody tr th:only-of-type {\n",
       "        vertical-align: middle;\n",
       "    }\n",
       "\n",
       "    .dataframe tbody tr th {\n",
       "        vertical-align: top;\n",
       "    }\n",
       "\n",
       "    .dataframe thead th {\n",
       "        text-align: right;\n",
       "    }\n",
       "</style>\n",
       "<table border=\"1\" class=\"dataframe\">\n",
       "  <thead>\n",
       "    <tr style=\"text-align: right;\">\n",
       "      <th></th>\n",
       "      <th>date</th>\n",
       "      <th>home_team</th>\n",
       "      <th>away_team</th>\n",
       "      <th>home_score</th>\n",
       "      <th>away_score</th>\n",
       "      <th>tournament</th>\n",
       "      <th>city</th>\n",
       "      <th>country</th>\n",
       "      <th>neutral</th>\n",
       "    </tr>\n",
       "  </thead>\n",
       "  <tbody>\n",
       "    <tr>\n",
       "      <th>14399</th>\n",
       "      <td>1986-08-10</td>\n",
       "      <td>Australia</td>\n",
       "      <td>Czechoslovakia</td>\n",
       "      <td>0</td>\n",
       "      <td>3</td>\n",
       "      <td>Friendly</td>\n",
       "      <td>Parramatta</td>\n",
       "      <td>Australia</td>\n",
       "      <td>False</td>\n",
       "    </tr>\n",
       "    <tr>\n",
       "      <th>42691</th>\n",
       "      <td>2021-09-07</td>\n",
       "      <td>Angola</td>\n",
       "      <td>Libya</td>\n",
       "      <td>0</td>\n",
       "      <td>1</td>\n",
       "      <td>FIFA World Cup qualification</td>\n",
       "      <td>Luanda</td>\n",
       "      <td>Angola</td>\n",
       "      <td>False</td>\n",
       "    </tr>\n",
       "    <tr>\n",
       "      <th>28089</th>\n",
       "      <td>2005-11-16</td>\n",
       "      <td>Egypt</td>\n",
       "      <td>Tunisia</td>\n",
       "      <td>1</td>\n",
       "      <td>2</td>\n",
       "      <td>Friendly</td>\n",
       "      <td>Cairo</td>\n",
       "      <td>Egypt</td>\n",
       "      <td>False</td>\n",
       "    </tr>\n",
       "    <tr>\n",
       "      <th>17421</th>\n",
       "      <td>1992-11-15</td>\n",
       "      <td>Mexico</td>\n",
       "      <td>Honduras</td>\n",
       "      <td>2</td>\n",
       "      <td>0</td>\n",
       "      <td>FIFA World Cup qualification</td>\n",
       "      <td>Mexico City</td>\n",
       "      <td>Mexico</td>\n",
       "      <td>False</td>\n",
       "    </tr>\n",
       "    <tr>\n",
       "      <th>28473</th>\n",
       "      <td>2006-06-04</td>\n",
       "      <td>Slovenia</td>\n",
       "      <td>Ivory Coast</td>\n",
       "      <td>0</td>\n",
       "      <td>3</td>\n",
       "      <td>Friendly</td>\n",
       "      <td>Bondoufle</td>\n",
       "      <td>France</td>\n",
       "      <td>True</td>\n",
       "    </tr>\n",
       "  </tbody>\n",
       "</table>\n",
       "</div>"
      ],
      "text/plain": [
       "             date  home_team       away_team  home_score  away_score  \\\n",
       "14399  1986-08-10  Australia  Czechoslovakia           0           3   \n",
       "42691  2021-09-07     Angola           Libya           0           1   \n",
       "28089  2005-11-16      Egypt         Tunisia           1           2   \n",
       "17421  1992-11-15     Mexico        Honduras           2           0   \n",
       "28473  2006-06-04   Slovenia     Ivory Coast           0           3   \n",
       "\n",
       "                         tournament         city    country  neutral  \n",
       "14399                      Friendly   Parramatta  Australia    False  \n",
       "42691  FIFA World Cup qualification       Luanda     Angola    False  \n",
       "28089                      Friendly        Cairo      Egypt    False  \n",
       "17421  FIFA World Cup qualification  Mexico City     Mexico    False  \n",
       "28473                      Friendly    Bondoufle     France     True  "
      ]
     },
     "execution_count": 6,
     "metadata": {},
     "output_type": "execute_result"
    }
   ],
   "source": [
    "df_match  = pd.read_csv('results.csv')\n",
    "#TEST\n",
    "df_match.sample(5)"
   ]
  },
  {
   "cell_type": "markdown",
   "metadata": {},
   "source": [
    "Đọc dữ liệu quốc gia theo lục địa vào `df_continent`"
   ]
  },
  {
   "cell_type": "code",
   "execution_count": 7,
   "metadata": {},
   "outputs": [
    {
     "data": {
      "text/html": [
       "<div>\n",
       "<style scoped>\n",
       "    .dataframe tbody tr th:only-of-type {\n",
       "        vertical-align: middle;\n",
       "    }\n",
       "\n",
       "    .dataframe tbody tr th {\n",
       "        vertical-align: top;\n",
       "    }\n",
       "\n",
       "    .dataframe thead th {\n",
       "        text-align: right;\n",
       "    }\n",
       "</style>\n",
       "<table border=\"1\" class=\"dataframe\">\n",
       "  <thead>\n",
       "    <tr style=\"text-align: right;\">\n",
       "      <th></th>\n",
       "      <th>Country</th>\n",
       "      <th>Code</th>\n",
       "      <th>Continent</th>\n",
       "    </tr>\n",
       "  </thead>\n",
       "  <tbody>\n",
       "    <tr>\n",
       "      <th>214</th>\n",
       "      <td>Vanuatu</td>\n",
       "      <td>VAN</td>\n",
       "      <td>South America</td>\n",
       "    </tr>\n",
       "    <tr>\n",
       "      <th>52</th>\n",
       "      <td>Zambia</td>\n",
       "      <td>ZAM</td>\n",
       "      <td>Africa</td>\n",
       "    </tr>\n",
       "    <tr>\n",
       "      <th>135</th>\n",
       "      <td>Luxembourg</td>\n",
       "      <td>LUX</td>\n",
       "      <td>Europe</td>\n",
       "    </tr>\n",
       "    <tr>\n",
       "      <th>139</th>\n",
       "      <td>Netherlands</td>\n",
       "      <td>NED</td>\n",
       "      <td>Europe</td>\n",
       "    </tr>\n",
       "    <tr>\n",
       "      <th>28</th>\n",
       "      <td>Libya</td>\n",
       "      <td>LBY</td>\n",
       "      <td>Africa</td>\n",
       "    </tr>\n",
       "  </tbody>\n",
       "</table>\n",
       "</div>"
      ],
      "text/plain": [
       "          Country Code      Continent\n",
       "214       Vanuatu  VAN  South America\n",
       "52         Zambia  ZAM         Africa\n",
       "135    Luxembourg  LUX         Europe\n",
       "139   Netherlands  NED         Europe\n",
       "28          Libya  LBY         Africa"
      ]
     },
     "execution_count": 7,
     "metadata": {},
     "output_type": "execute_result"
    }
   ],
   "source": [
    "df_continent = pd.read_csv('country_continent.csv')\n",
    "#TEST\n",
    "df_continent.sample(5)"
   ]
  },
  {
   "cell_type": "markdown",
   "metadata": {},
   "source": [
    "### Tiền xử lý dữ liệu"
   ]
  },
  {
   "cell_type": "markdown",
   "metadata": {},
   "source": [
    "Đầu tiên chúng ta sẽ kiểm tra lại tên các quốc gia coi đã đúng là tên hiện tại của quốc gia đó chưa, nếu chưa thì đổi lại thành tên hiện tại"
   ]
  },
  {
   "cell_type": "code",
   "execution_count": 37,
   "metadata": {},
   "outputs": [],
   "source": [
    "df_match = df_match.dropna()"
   ]
  },
  {
   "cell_type": "code",
   "execution_count": 56,
   "metadata": {},
   "outputs": [
    {
     "data": {
      "text/html": [
       "<div>\n",
       "<style scoped>\n",
       "    .dataframe tbody tr th:only-of-type {\n",
       "        vertical-align: middle;\n",
       "    }\n",
       "\n",
       "    .dataframe tbody tr th {\n",
       "        vertical-align: top;\n",
       "    }\n",
       "\n",
       "    .dataframe thead th {\n",
       "        text-align: right;\n",
       "    }\n",
       "</style>\n",
       "<table border=\"1\" class=\"dataframe\">\n",
       "  <thead>\n",
       "    <tr style=\"text-align: right;\">\n",
       "      <th></th>\n",
       "      <th>date</th>\n",
       "      <th>home_team</th>\n",
       "      <th>away_team</th>\n",
       "      <th>home_score</th>\n",
       "      <th>away_score</th>\n",
       "      <th>tournament</th>\n",
       "      <th>city</th>\n",
       "      <th>country</th>\n",
       "      <th>neutral</th>\n",
       "      <th>other_names</th>\n",
       "      <th>real_name</th>\n",
       "    </tr>\n",
       "  </thead>\n",
       "  <tbody>\n",
       "    <tr>\n",
       "      <th>0</th>\n",
       "      <td>1872-11-30</td>\n",
       "      <td>Scotland</td>\n",
       "      <td>England</td>\n",
       "      <td>0.0</td>\n",
       "      <td>0.0</td>\n",
       "      <td>Friendly</td>\n",
       "      <td>Glasgow</td>\n",
       "      <td>Scotland</td>\n",
       "      <td>False</td>\n",
       "      <td>NaN</td>\n",
       "      <td>NaN</td>\n",
       "    </tr>\n",
       "    <tr>\n",
       "      <th>1</th>\n",
       "      <td>1873-03-08</td>\n",
       "      <td>England</td>\n",
       "      <td>Scotland</td>\n",
       "      <td>4.0</td>\n",
       "      <td>2.0</td>\n",
       "      <td>Friendly</td>\n",
       "      <td>London</td>\n",
       "      <td>England</td>\n",
       "      <td>False</td>\n",
       "      <td>NaN</td>\n",
       "      <td>NaN</td>\n",
       "    </tr>\n",
       "    <tr>\n",
       "      <th>2</th>\n",
       "      <td>1874-03-07</td>\n",
       "      <td>Scotland</td>\n",
       "      <td>England</td>\n",
       "      <td>2.0</td>\n",
       "      <td>1.0</td>\n",
       "      <td>Friendly</td>\n",
       "      <td>Glasgow</td>\n",
       "      <td>Scotland</td>\n",
       "      <td>False</td>\n",
       "      <td>NaN</td>\n",
       "      <td>NaN</td>\n",
       "    </tr>\n",
       "    <tr>\n",
       "      <th>3</th>\n",
       "      <td>1875-03-06</td>\n",
       "      <td>England</td>\n",
       "      <td>Scotland</td>\n",
       "      <td>2.0</td>\n",
       "      <td>2.0</td>\n",
       "      <td>Friendly</td>\n",
       "      <td>London</td>\n",
       "      <td>England</td>\n",
       "      <td>False</td>\n",
       "      <td>NaN</td>\n",
       "      <td>NaN</td>\n",
       "    </tr>\n",
       "    <tr>\n",
       "      <th>4</th>\n",
       "      <td>1876-03-04</td>\n",
       "      <td>Scotland</td>\n",
       "      <td>England</td>\n",
       "      <td>3.0</td>\n",
       "      <td>0.0</td>\n",
       "      <td>Friendly</td>\n",
       "      <td>Glasgow</td>\n",
       "      <td>Scotland</td>\n",
       "      <td>False</td>\n",
       "      <td>NaN</td>\n",
       "      <td>NaN</td>\n",
       "    </tr>\n",
       "    <tr>\n",
       "      <th>...</th>\n",
       "      <td>...</td>\n",
       "      <td>...</td>\n",
       "      <td>...</td>\n",
       "      <td>...</td>\n",
       "      <td>...</td>\n",
       "      <td>...</td>\n",
       "      <td>...</td>\n",
       "      <td>...</td>\n",
       "      <td>...</td>\n",
       "      <td>...</td>\n",
       "      <td>...</td>\n",
       "    </tr>\n",
       "    <tr>\n",
       "      <th>43076</th>\n",
       "      <td>2021-12-10</td>\n",
       "      <td>Tunisia</td>\n",
       "      <td>Oman</td>\n",
       "      <td>2.0</td>\n",
       "      <td>1.0</td>\n",
       "      <td>Arab Cup</td>\n",
       "      <td>Al Rayyan</td>\n",
       "      <td>Qatar</td>\n",
       "      <td>True</td>\n",
       "      <td>NaN</td>\n",
       "      <td>NaN</td>\n",
       "    </tr>\n",
       "    <tr>\n",
       "      <th>43077</th>\n",
       "      <td>2021-12-10</td>\n",
       "      <td>Qatar</td>\n",
       "      <td>United Arab Emirates</td>\n",
       "      <td>5.0</td>\n",
       "      <td>0.0</td>\n",
       "      <td>Arab Cup</td>\n",
       "      <td>Al Khor</td>\n",
       "      <td>Qatar</td>\n",
       "      <td>False</td>\n",
       "      <td>NaN</td>\n",
       "      <td>NaN</td>\n",
       "    </tr>\n",
       "    <tr>\n",
       "      <th>43078</th>\n",
       "      <td>2021-12-11</td>\n",
       "      <td>Egypt</td>\n",
       "      <td>Jordan</td>\n",
       "      <td>3.0</td>\n",
       "      <td>1.0</td>\n",
       "      <td>Arab Cup</td>\n",
       "      <td>Al Wakrah</td>\n",
       "      <td>Qatar</td>\n",
       "      <td>True</td>\n",
       "      <td>NaN</td>\n",
       "      <td>NaN</td>\n",
       "    </tr>\n",
       "    <tr>\n",
       "      <th>43079</th>\n",
       "      <td>2021-12-11</td>\n",
       "      <td>Morocco</td>\n",
       "      <td>Algeria</td>\n",
       "      <td>2.0</td>\n",
       "      <td>2.0</td>\n",
       "      <td>Arab Cup</td>\n",
       "      <td>Doha</td>\n",
       "      <td>Qatar</td>\n",
       "      <td>True</td>\n",
       "      <td>NaN</td>\n",
       "      <td>NaN</td>\n",
       "    </tr>\n",
       "    <tr>\n",
       "      <th>43080</th>\n",
       "      <td>2021-12-11</td>\n",
       "      <td>El Salvador</td>\n",
       "      <td>Chile</td>\n",
       "      <td>0.0</td>\n",
       "      <td>1.0</td>\n",
       "      <td>Friendly</td>\n",
       "      <td>Los Angeles</td>\n",
       "      <td>United States</td>\n",
       "      <td>True</td>\n",
       "      <td>NaN</td>\n",
       "      <td>NaN</td>\n",
       "    </tr>\n",
       "  </tbody>\n",
       "</table>\n",
       "<p>43081 rows × 11 columns</p>\n",
       "</div>"
      ],
      "text/plain": [
       "             date    home_team             away_team  home_score  away_score  \\\n",
       "0      1872-11-30     Scotland               England         0.0         0.0   \n",
       "1      1873-03-08      England              Scotland         4.0         2.0   \n",
       "2      1874-03-07     Scotland               England         2.0         1.0   \n",
       "3      1875-03-06      England              Scotland         2.0         2.0   \n",
       "4      1876-03-04     Scotland               England         3.0         0.0   \n",
       "...           ...          ...                   ...         ...         ...   \n",
       "43076  2021-12-10      Tunisia                  Oman         2.0         1.0   \n",
       "43077  2021-12-10        Qatar  United Arab Emirates         5.0         0.0   \n",
       "43078  2021-12-11        Egypt                Jordan         3.0         1.0   \n",
       "43079  2021-12-11      Morocco               Algeria         2.0         2.0   \n",
       "43080  2021-12-11  El Salvador                 Chile         0.0         1.0   \n",
       "\n",
       "      tournament         city        country neutral other_names real_name  \n",
       "0       Friendly      Glasgow       Scotland   False         NaN       NaN  \n",
       "1       Friendly       London        England   False         NaN       NaN  \n",
       "2       Friendly      Glasgow       Scotland   False         NaN       NaN  \n",
       "3       Friendly       London        England   False         NaN       NaN  \n",
       "4       Friendly      Glasgow       Scotland   False         NaN       NaN  \n",
       "...          ...          ...            ...     ...         ...       ...  \n",
       "43076   Arab Cup    Al Rayyan          Qatar    True         NaN       NaN  \n",
       "43077   Arab Cup      Al Khor          Qatar   False         NaN       NaN  \n",
       "43078   Arab Cup    Al Wakrah          Qatar    True         NaN       NaN  \n",
       "43079   Arab Cup         Doha          Qatar    True         NaN       NaN  \n",
       "43080   Friendly  Los Angeles  United States    True         NaN       NaN  \n",
       "\n",
       "[43081 rows x 11 columns]"
      ]
     },
     "execution_count": 56,
     "metadata": {},
     "output_type": "execute_result"
    }
   ],
   "source": [
    "# def find_real_name(text):\n",
    "\n",
    "\n",
    "# df_match[df_match['home_team'].isin(df_countrynames.index)].apply()\n",
    "# temp = df_match.merge(df_countrynames,left_on='home_team',right_on='other_names')['real_name']\n",
    "# # df_match\n",
    "# # len(temp.isna())\n",
    "# temp.value_counts()\n",
    "\n",
    "test = pd.merge(df_match,df_countrynames,how='left',left_on='home_team',right_on='other_names')#['real_name']\n",
    "test"
   ]
  },
  {
   "cell_type": "markdown",
   "metadata": {},
   "source": [
    "### Dữ liệu có bao nhiêu dòng và cột ?"
   ]
  },
  {
   "cell_type": "markdown",
   "metadata": {},
   "source": [
    "### Mỗi dòng có ý nghĩa gì? Có vấn đề gì các dòng có ý nghĩa khác nhau không ?"
   ]
  },
  {
   "cell_type": "markdown",
   "metadata": {},
   "source": [
    "### Dữ liệu có các dòng bị lặp không ? "
   ]
  },
  {
   "cell_type": "markdown",
   "metadata": {},
   "source": [
    "### Mỗi cột có ý nghĩa gì?"
   ]
  },
  {
   "cell_type": "markdown",
   "metadata": {},
   "source": [
    "### Mỗi cột hiện đang có kiểu dữ liệu gì? Có cần phải thay đổi hay không?"
   ]
  },
  {
   "cell_type": "markdown",
   "metadata": {},
   "source": [
    "---"
   ]
  },
  {
   "cell_type": "markdown",
   "metadata": {},
   "source": [
    "# Đưa ra các câu hỏi cần trả lời"
   ]
  },
  {
   "cell_type": "markdown",
   "metadata": {},
   "source": [
    "---"
   ]
  },
  {
   "cell_type": "markdown",
   "metadata": {},
   "source": [
    "# Tiền xử lí + phân tích dữ liệu để trả lời câu hỏi"
   ]
  },
  {
   "cell_type": "markdown",
   "metadata": {},
   "source": [
    "---"
   ]
  },
  {
   "cell_type": "markdown",
   "metadata": {},
   "source": [
    "# Nhìn lại quá trình làm đồ án"
   ]
  },
  {
   "cell_type": "markdown",
   "metadata": {},
   "source": [
    "### Học được những gì từ đồ án"
   ]
  },
  {
   "cell_type": "markdown",
   "metadata": {},
   "source": [
    "### Những khó khăn khi thực hiện đồ án"
   ]
  },
  {
   "cell_type": "markdown",
   "metadata": {},
   "source": [
    "---"
   ]
  },
  {
   "cell_type": "markdown",
   "metadata": {},
   "source": [
    "# Tài liệu tham khảo"
   ]
  },
  {
   "cell_type": "markdown",
   "metadata": {},
   "source": [
    "---"
   ]
  }
 ],
 "metadata": {
  "interpreter": {
   "hash": "47579162945f248bf594bb80bafa1f1c1494a0ffd44cc646a6f113fff71b4c7c"
  },
  "kernelspec": {
   "display_name": "Python 3.8.8 64-bit ('min_ds-env': conda)",
   "language": "python",
   "name": "python3"
  },
  "language_info": {
   "codemirror_mode": {
    "name": "ipython",
    "version": 3
   },
   "file_extension": ".py",
   "mimetype": "text/x-python",
   "name": "python",
   "nbconvert_exporter": "python",
   "pygments_lexer": "ipython3",
   "version": "3.9.7"
  },
  "orig_nbformat": 4
 },
 "nbformat": 4,
 "nbformat_minor": 2
}
