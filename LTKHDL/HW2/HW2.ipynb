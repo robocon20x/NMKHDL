{
 "cells": [
  {
   "cell_type": "markdown",
   "id": "46896a80",
   "metadata": {},
   "source": [
    "# HW2: Numpy\n",
    "\n",
    "*Vì đây là bài tập về Numpy nên yêu cầu nói chung là không được dùng vòng lặp; còn ở chỗ nào mà cho phép dùng thì mình sẽ nói rõ*\n",
    "\n",
    "(Cập nhật lần cuối: 28/11/2021)\n",
    "\n",
    "\n",
    "\n",
    "Họ tên: Lưu Trường Dương\n",
    "\n",
    "MSSV: 19120489"
   ]
  },
  {
   "cell_type": "markdown",
   "id": "98060f23",
   "metadata": {},
   "source": [
    "---"
   ]
  },
  {
   "cell_type": "markdown",
   "id": "155aa0df",
   "metadata": {},
   "source": [
    "## Cách làm bài và nộp bài"
   ]
  },
  {
   "cell_type": "markdown",
   "id": "f181e2a2",
   "metadata": {},
   "source": [
    "&#9889; Bạn lưu ý là mình sẽ dùng chương trình hỗ trợ chấm bài nên bạn cần phải tuân thủ chính xác qui định mà mình đặt ra, nếu không rõ thì hỏi, chứ không nên tự tiện làm theo ý của cá nhân.\n",
    "\n",
    "**Cách làm bài**\n",
    "\n",
    "Bạn sẽ làm trực tiếp trên file notebook này. Đầu tiên, bạn điền họ tên và MSSV vào phần đầu file ở bên trên. Trong file, bạn làm bài ở những chỗ có ghi là:\n",
    "```python\n",
    "# YOUR CODE HERE\n",
    "raise NotImplementedError()\n",
    "```\n",
    "hoặc đối với những phần code không bắt buộc thì là:\n",
    "```python\n",
    "# YOUR CODE HERE (OPTION)\n",
    "```\n",
    "hoặc đối với markdown cell thì là:\n",
    "```markdown\n",
    "YOUR ANSWER HERE\n",
    "```\n",
    "Tất nhiên, khi làm thì bạn xóa dòng `raise NotImplementedError()` đi.\n",
    "Đối những phần yêu cầu code thì thường ở ngay phía dưới sẽ có một (hoặc một số) cell chứa các bộ test để giúp bạn biết đã code đúng hay chưa; nếu chạy cell này không có lỗi gì thì có nghĩa là qua được các bộ test. Trong một số trường hợp, các bộ test có thể sẽ không đầy đủ; nghĩa là, nếu không qua được test thì là code sai, nhưng nếu qua được test thì chưa chắc đã đúng hoàn toàn.\n",
    "\n",
    "Trong khi làm bài, bạn có thể cho in ra màn hình, tạo thêm các cell để test. Nhưng khi nộp bài thì bạn xóa các cell mà bạn tự tạo, xóa hoặc comment các câu lệnh in ra màn hình. Bạn lưu ý <font color=red>không được tự tiện xóa các cell hay sửa code của Thầy</font> (trừ những chỗ được phép sửa như đã nói ở trên).\n",
    "\n",
    "Bạn cố gắng giữ cho code rõ ràng, ngăn nắp: đặt tên biến gợi ý, comment ở những chỗ cần comment, giữ cho một dòng code không quá dài (vì nếu không thì người đọc sẽ phải mất công scroll, bạn có thể dùng qui tắc: một dòng code chỉ nên có tối đa là 79 ký tự). \n",
    "\n",
    "Trong khi làm bài, thường xuyên `Ctrl + S` để lưu lại bài làm của bạn, tránh mất mát thông tin.\n",
    "\n",
    "\n",
    "*Nên nhớ mục tiêu chính ở đây là <font color=green>học, học một cách chân thật</font>. Bạn có thể thảo luận ý tưởng với bạn khác, nhưng <font color=green>code và bài làm phải là của bạn, dựa trên sự hiểu thật sự của bạn</font>. <font color=red>Nếu vi phạm thì sẽ bị 0 điểm cho toàn bộ môn học.</font>*\n",
    "\n",
    "**Cách nộp bài**\n",
    "\n",
    "Khi chấm bài, đầu tiên mình sẽ chọn `Kernel` - `Restart & Run All` để restart và chạy tất cả các cell trong notebook của bạn; do đó, trước khi nộp bài, bạn nên chạy thử `Kernel` - `Restart & Run All` để đảm bảo mọi chuyện diễn ra đúng như mong đợi.\n",
    "\n",
    "Sau đó, bạn tạo thư mục nộp bài theo cấu trúc sau:\n",
    "- Thư mục `MSSV` (vd, nếu bạn có MSSV là 1234567 thì bạn đặt tên thư mục là `1234567`)\n",
    "    - File `HW2.ipynb` (không cần nộp các file khác)\n",
    "\n",
    "Cuối cùng, bạn nén thư mục `MSSV` này lại và nộp ở link trên moodle. <font color=red>Bạn lưu ý tuân thủ chính xác qui định nộp bài.</font>"
   ]
  },
  {
   "cell_type": "markdown",
   "id": "c09ce040",
   "metadata": {},
   "source": [
    "---"
   ]
  },
  {
   "cell_type": "markdown",
   "id": "f5861b79",
   "metadata": {},
   "source": [
    "## Môi trường code"
   ]
  },
  {
   "cell_type": "markdown",
   "id": "a55dd304",
   "metadata": {},
   "source": [
    "Ta thống nhất trong môn này:\n",
    "- Code trên môi trường Linux (bạn đã setup ở HW0)\n",
    "- Dùng Jupyter Notebook hoặc Jupyter Lab để code file .ipynb. Lưu ý: bạn <font color=red>không dùng Google Colab</font>, vì Google Colab có thể xóa một số thông tin meta mà chương trình hỗ trợ chấm bài của mình đã tạo trong file bài tập\n",
    "- Dùng phiên bản các package như trong file \"min_ds-env.yml\" (bạn xem trong HW0 cách dùng Conda để tạo môi trường code từ file .yml và cách kích hoạt môi trường này sau khi đã tạo)"
   ]
  },
  {
   "cell_type": "code",
   "execution_count": 1,
   "id": "f4d0ddac",
   "metadata": {},
   "outputs": [
    {
     "data": {
      "text/plain": [
       "'E:\\\\app\\\\python\\\\python.exe'"
      ]
     },
     "execution_count": 1,
     "metadata": {},
     "output_type": "execute_result"
    }
   ],
   "source": [
    "import sys\n",
    "sys.executable"
   ]
  },
  {
   "cell_type": "markdown",
   "id": "0aed058f",
   "metadata": {},
   "source": [
    "Nếu không có vấn đề gì thì file chạy python sẽ là file của môi trường code \"min_ds-env\".\n",
    "\n",
    "Trong bài này, bạn không dùng thư viện Pandas."
   ]
  },
  {
   "cell_type": "markdown",
   "id": "8d61e06a",
   "metadata": {},
   "source": [
    "---"
   ]
  },
  {
   "cell_type": "markdown",
   "id": "f1372718",
   "metadata": {},
   "source": [
    "## Import các thư viện cần thiết"
   ]
  },
  {
   "cell_type": "code",
   "execution_count": 2,
   "id": "aa2cfe75",
   "metadata": {},
   "outputs": [],
   "source": [
    "import numpy as np\n",
    "# YOUR CODE HERE (OPTION)"
   ]
  },
  {
   "cell_type": "markdown",
   "id": "cbb29f77",
   "metadata": {},
   "source": [
    "---"
   ]
  },
  {
   "cell_type": "markdown",
   "id": "6098d27a",
   "metadata": {},
   "source": [
    "## Thu thập dữ liệu"
   ]
  },
  {
   "cell_type": "markdown",
   "id": "744ae3ae",
   "metadata": {},
   "source": [
    "Trong bài này, ta chỉ đơn giản là dùng bộ dữ liệu đã được thu thập sẵn. Bạn download [ở đây](https://files.grouplens.org/datasets/movielens/ml-100k/u.data); bạn để tên file là \"u.data\", không có đuôi txt hay đuôi gì cả. Bộ dữ liệu này thật ra có nhiều hơn một file, nhưng trong bài này ta chỉ dùng một file là \"u.data\".\n",
    "\n",
    "Theo [file mô tả dữ liệu](https://files.grouplens.org/datasets/movielens/ml-100k-README.txt):\n",
    "> MovieLens data sets were collected by the GroupLens Research Project\n",
    "at the University of Minnesota.\n",
    "> \n",
    "> This data set consists of:\n",
    "> * 100,000 ratings (1-5) from 943 users on 1682 movies. \n",
    "> * Each user has rated at least 20 movies.  \n",
    "> * Simple demographic info for the users (age, gender, occupation, zip)\n",
    ">\n",
    "> The data was collected through the MovieLens web site\n",
    "(movielens.umn.edu) during the seven-month period from September 19th, \n",
    "1997 through April 22nd, 1998. This data has been cleaned up - users\n",
    "who had less than 20 ratings or did not have complete demographic\n",
    "information were removed from this data set. Detailed descriptions of\n",
    "the data file can be found at the end of this file.\n",
    "\n",
    "Trên là mô tả chung cho tất cả các file trong bộ dữ liệu. Còn đây là mô tả cụ thể cho file \"u.data\":\n",
    "> The full u data set, 100000 ratings by 943 users on 1682 items. Each user has rated at least 20 movies. Users and items are numbered consecutively from 1. The data is randomly ordered. This is a tab separated list of user id | item id | rating | timestamp. The time stamps are unix seconds since 1/1/1970 UTC "
   ]
  },
  {
   "cell_type": "markdown",
   "id": "43a99fa4",
   "metadata": {},
   "source": [
    "---"
   ]
  },
  {
   "cell_type": "markdown",
   "id": "804be566",
   "metadata": {},
   "source": [
    "## Khám phá dữ liệu"
   ]
  },
  {
   "cell_type": "markdown",
   "id": "d4673a3c",
   "metadata": {},
   "source": [
    "### Dữ liệu có bao nhiêu dòng và bao nhiêu cột? (0.5đ)"
   ]
  },
  {
   "cell_type": "markdown",
   "id": "41593a06",
   "metadata": {},
   "source": [
    "Việc đầu tiên của bạn là đọc file \"u.data\" vào Numpy array tên là `raw_ratings` (dùng hàm `np.genfromtxt`). Bạn để `dtype` là `np.uint64`. Bạn cũng cần để file \"u.data\" cùng thư mục với file notebook này và khi gọi hàm `np.genfromtxt` thì chỉ truyền vào tên file là \"u.data\".\n",
    "\n",
    "Kế tiếp, bạn tính số dòng và số cột, rồi lần lượt lưu vào hai biến là `n_rows` và `n_cols`."
   ]
  },
  {
   "cell_type": "code",
   "execution_count": 3,
   "id": "9013cf72",
   "metadata": {
    "deletable": false,
    "nbgrader": {
     "cell_type": "code",
     "checksum": "969205f46fed7422d8972495c4c36348",
     "grade": false,
     "grade_id": "cell-1bf7d4be2f1eb278",
     "locked": false,
     "schema_version": 3,
     "solution": true,
     "task": false
    }
   },
   "outputs": [],
   "source": [
    "raw_ratings = np.genfromtxt(\"u.data\",dtype = np.uint64)\n",
    "n_rows = raw_ratings.shape[0]\n",
    "n_cols = raw_ratings.shape[1]"
   ]
  },
  {
   "cell_type": "code",
   "execution_count": 4,
   "id": "2871f983",
   "metadata": {
    "deletable": false,
    "editable": false,
    "nbgrader": {
     "cell_type": "code",
     "checksum": "71ee63014fe20f7ca0d15826e9578442",
     "grade": true,
     "grade_id": "cell-fd69b593a2722fbc",
     "locked": true,
     "points": 0.5,
     "schema_version": 3,
     "solution": false,
     "task": false
    }
   },
   "outputs": [
    {
     "data": {
      "text/plain": [
       "array([[      196,       242,         3, 881250949],\n",
       "       [      186,       302,         3, 891717742],\n",
       "       [       22,       377,         1, 878887116],\n",
       "       [      244,        51,         2, 880606923],\n",
       "       [      166,       346,         1, 886397596]], dtype=uint64)"
      ]
     },
     "execution_count": 4,
     "metadata": {},
     "output_type": "execute_result"
    }
   ],
   "source": [
    "# TEST\n",
    "assert raw_ratings.dtype == np.uint64\n",
    "assert raw_ratings.ndim == 2\n",
    "assert n_rows == 100000\n",
    "assert n_cols == 4\n",
    "raw_ratings[:5] # Xem 5 dòng đầu tiên"
   ]
  },
  {
   "cell_type": "markdown",
   "id": "3d440322",
   "metadata": {},
   "source": [
    "### Mỗi dòng có ý nghĩa gì? Có vấn đề các dòng có ý nghĩa khác nhau không?"
   ]
  },
  {
   "cell_type": "markdown",
   "id": "60ec1df2",
   "metadata": {},
   "source": [
    "Theo file mô tả dữ liệu và theo quan sát sơ bộ về dữ liệu thì một dòng cho biết thông tin cho điểm của một người dùng đối với một phim. Có vẻ không có dòng nào bị \"lạc loài\"."
   ]
  },
  {
   "cell_type": "markdown",
   "id": "dfd3b9ac",
   "metadata": {},
   "source": [
    "### Dữ liệu có các dòng bị lặp không? (0.5đ)"
   ]
  },
  {
   "cell_type": "markdown",
   "id": "668a8254",
   "metadata": {},
   "source": [
    "Bạn sẽ kiểm tra vụ này và lưu kết quả vào biến `have_duplicated_rows`. Biến này sẽ có giá trị True nếu dữ liệu có các dòng bị lặp và có giá trị False nếu ngược."
   ]
  },
  {
   "cell_type": "code",
   "execution_count": 5,
   "id": "138597cc",
   "metadata": {
    "deletable": false,
    "nbgrader": {
     "cell_type": "code",
     "checksum": "fadc1b859d04ad7d4bd45451142794bf",
     "grade": false,
     "grade_id": "cell-c184a3a04425a1c1",
     "locked": false,
     "schema_version": 3,
     "solution": true,
     "task": false
    }
   },
   "outputs": [],
   "source": [
    "have_duplicated_rows = False if  len(np.unique(raw_ratings,axis=0)) == len(raw_ratings) else True"
   ]
  },
  {
   "cell_type": "code",
   "execution_count": 6,
   "id": "372202fc",
   "metadata": {
    "deletable": false,
    "editable": false,
    "nbgrader": {
     "cell_type": "code",
     "checksum": "17161cf45b9f0757fd42c2040a5b025b",
     "grade": true,
     "grade_id": "cell-7f2d2f011cc33f7d",
     "locked": true,
     "points": 0.5,
     "schema_version": 3,
     "solution": false,
     "task": false
    }
   },
   "outputs": [],
   "source": [
    "# TEST\n",
    "assert have_duplicated_rows == False"
   ]
  },
  {
   "cell_type": "markdown",
   "id": "f019928b",
   "metadata": {},
   "source": [
    "### Mỗi cột có ý nghĩa gì?"
   ]
  },
  {
   "cell_type": "markdown",
   "id": "e0466dc8",
   "metadata": {},
   "source": [
    "Theo file mô tả dữ liệu thì:\n",
    "- Cột thứ nhất cho biết id của người dùng\n",
    "- Cột thứ hai cho biết id của phim\n",
    "- Cột thứ ba cho biết điểm mà người dùng đã cho đối với phim\n",
    "- Cột thứ tư cho biết thời điểm mà người dùng cho điểm (được thể hiện bằng số giây tính từ một cột mốc chuẩn)"
   ]
  },
  {
   "cell_type": "markdown",
   "id": "8f0a41a1",
   "metadata": {},
   "source": [
    "### Mỗi cột hiện đang có kiểu dữ liệu gì? Có cột nào có kiểu dữ liệu chưa phù hợp để có thể xử lý tiếp không?"
   ]
  },
  {
   "cell_type": "markdown",
   "id": "c7a7de37",
   "metadata": {},
   "source": [
    "Hiện tại thì tất cả các cột đều có kiểu dữ liệu là số:"
   ]
  },
  {
   "cell_type": "code",
   "execution_count": 7,
   "id": "96f0a76d",
   "metadata": {},
   "outputs": [
    {
     "data": {
      "text/plain": [
       "dtype('uint64')"
      ]
     },
     "execution_count": 7,
     "metadata": {},
     "output_type": "execute_result"
    }
   ],
   "source": [
    "raw_ratings.dtype"
   ]
  },
  {
   "cell_type": "markdown",
   "id": "b66a48a4",
   "metadata": {},
   "source": [
    "Tất cả các cột đều có kiểu dữ liệu phù hợp. \n",
    "\n",
    "Bạn đang nghĩ cột thời điểm cho điểm có kiểu dữ liệu phù hợp hay chưa? Cột này đang thể hiện cho thời gian dưới dạng số (số giây tính từ một cột mốc chuẩn). Ta vẫn có thể tính min, max, ... bình thường với cột này; và khi cần thì ta có thể chuyển min, max, ... sang dạng ngày tháng năm để dễ nhìn. Tất nhiên, ngay lúc này, ta có thể chuyển cột này sang dạng ngày tháng năm luôn; rồi khi tính min, max, ... thì kết quả sẽ ở sẵn dạng ngày tháng năm. Tuy nhiên, ở đây, mình không chọn cách làm này vì ràng buộc của Numpy array là các cột phải có cùng kiểu dữ liệu; nếu làm theo cách này thì dữ liệu của sẽ bị phân làm 2 array: một ứng với cột thời điểm cho điểm, một ứng với các cột còn lại (như vậy thì sẽ hơi bất tiện)."
   ]
  },
  {
   "cell_type": "markdown",
   "id": "d651709d",
   "metadata": {},
   "source": [
    "### Với mỗi cột có kiểu dữ liệu dạng số (numeric) và dạng datetime, các giá trị được phân bố như thế nào? (1đ)"
   ]
  },
  {
   "cell_type": "markdown",
   "id": "8e765ae8",
   "metadata": {},
   "source": [
    "Nhìn qua thì có vẻ tất cả các cột đều có dạng numeric. Nhưng mình nghĩ nên phân cột \"user id\" và \"movie id\" (2 cột đầu) vào nhóm categorical. Theo cách làm này thì sẽ có 2 cột dạng numeric: cột điểm (cột chỉ số 2) và cột thời điểm cho điểm (cột chỉ số 3).\n",
    "\n",
    "2 cột numeric này có bao nhiêu giá trị thiếu?"
   ]
  },
  {
   "cell_type": "code",
   "execution_count": 8,
   "id": "a5f7a13c",
   "metadata": {},
   "outputs": [
    {
     "data": {
      "text/plain": [
       "array([0, 0])"
      ]
     },
     "execution_count": 8,
     "metadata": {},
     "output_type": "execute_result"
    }
   ],
   "source": [
    "np.sum(np.isnan(raw_ratings[:, 2:]), axis=0)"
   ]
  },
  {
   "cell_type": "markdown",
   "id": "3f29f8b8",
   "metadata": {},
   "source": [
    "Việc của bạn là tính min, median, max của 2 cột numeric này (dùng hàm `np.percentile`, để tham số `interpolation` mặc định là `linear`); rồi lần lượt lưu vào 2 biến là `rate_col_profile` và `rate_date_col_profile`. Đây là 2 Numpy array (một chiều), trong đó `rate_col_profile` có `dtype` là số thực, còn `rate_date_col_profile` có `dtype` là `'datetime64[s]'`.\n",
    "\n",
    "Gợi ý: khi ép kiểu một array thì bạn có thể truyền vào kiểu cần ép dưới dạng một string (ở ngay trên cũng có một string kìa ;-) )."
   ]
  },
  {
   "cell_type": "code",
   "execution_count": 9,
   "id": "806a51aa",
   "metadata": {
    "deletable": false,
    "nbgrader": {
     "cell_type": "code",
     "checksum": "1ac19dfa727037d4ac37c1066a002523",
     "grade": false,
     "grade_id": "cell-15364ea0e0e9c792",
     "locked": false,
     "schema_version": 3,
     "solution": true,
     "task": false
    }
   },
   "outputs": [],
   "source": [
    "rate_col_profile = np.array([np.min(raw_ratings[:,2]),np.percentile(raw_ratings[:,2],50),\\\n",
    "    np.max(raw_ratings[:,2])],dtype='f')\n",
    "rate_date_col_profile = np.array([np.min(raw_ratings[:,3]),np.percentile(raw_ratings[:,3],50),\\\n",
    "    np.max(raw_ratings[:,3])],dtype='datetime64[s]')"
   ]
  },
  {
   "cell_type": "code",
   "execution_count": 10,
   "id": "225c0b82",
   "metadata": {
    "deletable": false,
    "editable": false,
    "nbgrader": {
     "cell_type": "code",
     "checksum": "78d180caf83dcc88a508b4a90424e189",
     "grade": true,
     "grade_id": "cell-3f3b0054dd6eadb9",
     "locked": true,
     "points": 1,
     "schema_version": 3,
     "solution": false,
     "task": false
    }
   },
   "outputs": [],
   "source": [
    "# TEST\n",
    "assert np.array_equal(rate_col_profile, np.array([1., 4., 5.]))\n",
    "assert np.array_equal(rate_date_col_profile, \n",
    "                      np.array(['1997-09-20T03:05:10', \n",
    "                                '1997-12-22T21:42:24',\n",
    "                                '1998-04-22T23:10:38'], \n",
    "                               dtype='datetime64[s]'))"
   ]
  },
  {
   "cell_type": "markdown",
   "id": "6aeedcf8",
   "metadata": {},
   "source": [
    "Min và max của 2 cột này không có gì bất thường, khớp với file mô tả dữ liệu."
   ]
  },
  {
   "cell_type": "markdown",
   "id": "49a7a821",
   "metadata": {},
   "source": [
    "### Với mỗi cột có kiểu dữ liệu dạng phân loại (categorical), các giá trị được phân bố như thế nào? (1đ)"
   ]
  },
  {
   "cell_type": "markdown",
   "id": "fbd939f3",
   "metadata": {},
   "source": [
    "Như đã nói, 2 cột categorical là 2 cột đầu.\n",
    "\n",
    "2 cột này có bao nhiêu giá trị thiếu:"
   ]
  },
  {
   "cell_type": "code",
   "execution_count": 11,
   "id": "03e22e68",
   "metadata": {},
   "outputs": [
    {
     "data": {
      "text/plain": [
       "array([0, 0])"
      ]
     },
     "execution_count": 11,
     "metadata": {},
     "output_type": "execute_result"
    }
   ],
   "source": [
    "np.sum(np.isnan(raw_ratings[:, :2]), axis=0)"
   ]
  },
  {
   "cell_type": "markdown",
   "id": "3935345c",
   "metadata": {},
   "source": [
    "Việc của bạn là, với mỗi cột, tính ra list gồm 5 con số: số lượng giá trị khác nhau, giá trị xuất hiện ít nhất cùng số lượng xuất hiện (tổng cộng 2 con số), giá trị xuất hiện nhiều nhất cùng số lượng xuất hiện (tổng cộng 2 con số). Bạn lưu 2 list tính được ứng với 2 cột vào 2 biến lần lượt là `user_col_profile` và `movie_col_profile`.\n",
    "\n",
    "Ta thống nhất: nếu có nhiều giá trị cùng xuất hiện ít nhất thì lấy giá trị nhỏ nhất, nếu có nhiều giá trị cùng xuất hiện nhiều nhất thì lấy giá trị lớn nhất (gợi ý này có thể giúp ích cho bạn: trong các hàm sort của Numpy, nếu bạn cho giá trị của tham số `kind` là `stable` thì Numpy sẽ sort array với đảm bảo các giá trị giống nhau trong array ban đầu sẽ được giữ nguyên thứ tự tương đối với nhau trong array kết quả). "
   ]
  },
  {
   "cell_type": "code",
   "execution_count": 12,
   "id": "cb24a3b2",
   "metadata": {
    "deletable": false,
    "nbgrader": {
     "cell_type": "code",
     "checksum": "0b2f1821e4825d46cbba96dc7b80c5b6",
     "grade": false,
     "grade_id": "cell-09819763bd956c3a",
     "locked": false,
     "schema_version": 3,
     "solution": true,
     "task": false
    }
   },
   "outputs": [],
   "source": [
    "user_col_profile = []\n",
    "movie_col_profile = []\n",
    "\n",
    "\n",
    "#xử lý user_col_profile \n",
    "temp = raw_ratings[:,0]\n",
    "user_col_profile.append(len(np.unique(temp)))\n",
    "\n",
    "temp1,temp2 = np.unique(temp,return_counts=True)\n",
    "\n",
    "indexs_min = np.where(temp2 == np.min(temp2))\n",
    "\n",
    "user_col_profile.append(temp1[indexs_min[0][0]])\n",
    "user_col_profile.append(np.min(temp2))\n",
    "\n",
    "indexs_max = np.where(temp2 == np.max(temp2))\n",
    "\n",
    "user_col_profile.append(temp1[indexs_max[0][-1]])\n",
    "user_col_profile.append(np.max(temp2))\n",
    "\n",
    "# #xử lý movie_col_profile\n",
    "temp = raw_ratings[:,1]\n",
    "movie_col_profile.append(len(np.unique(temp)))\n",
    "\n",
    "temp1,temp2 = np.unique(temp,return_counts=True)\n",
    "\n",
    "indexs_min = np.where(temp2 == np.min(temp2))\n",
    "\n",
    "movie_col_profile.append(temp1[indexs_min[0][0]])\n",
    "movie_col_profile.append(np.min(temp2))\n",
    "\n",
    "indexs_max = np.where(temp2 == np.max(temp2))\n",
    "\n",
    "movie_col_profile.append(temp1[indexs_max[0][-1]])\n",
    "movie_col_profile.append(np.max(temp2))\n"
   ]
  },
  {
   "cell_type": "code",
   "execution_count": 13,
   "id": "71c49bef",
   "metadata": {
    "deletable": false,
    "editable": false,
    "nbgrader": {
     "cell_type": "code",
     "checksum": "c2d87e103900fd26d436366c138e3937",
     "grade": true,
     "grade_id": "cell-9f4bbdb1bcb99063",
     "locked": true,
     "points": 1,
     "schema_version": 3,
     "solution": false,
     "task": false
    }
   },
   "outputs": [],
   "source": [
    "assert user_col_profile==[943, # Có chừng này user\n",
    "                          19,  # Đây là user rate ít movie nhất\n",
    "                          20,  # và đó là chừng này movie\n",
    "                          405, # Đây là user rate nhiều movie nhất\n",
    "                          737] # và đó là chừng này movie\n",
    "assert movie_col_profile==[1682,#Có chừng này movie\n",
    "                           599, #Đây là movie được ít user rate nhất\n",
    "                           1,   #và đó là chừng này user\n",
    "                           50,  #Đây là movie được nhiều user rate nhất\n",
    "                           583] #và đó là chừng này user"
   ]
  },
  {
   "cell_type": "markdown",
   "id": "70ee0678",
   "metadata": {},
   "source": [
    "Các thông tin này khớp với file mô tả dữ liệu:\n",
    "> The full u data set, 100000 ratings by 943 users on 1682 items. Each user has rated at least 20 movies. Users and items are numbered consecutively from 1.\n",
    "\n",
    "Ý \"Users and items are numbered consecutively from 1\" chưa được kiểm chứng từ kết quả ở trên. Dưới đây, ta sẽ kiểm chứng ý này:"
   ]
  },
  {
   "cell_type": "code",
   "execution_count": 14,
   "id": "1586c8dd",
   "metadata": {},
   "outputs": [
    {
     "name": "stdout",
     "output_type": "stream",
     "text": [
      "User id  - min & max: 1 & 943\n",
      "Movie id - min & max: 1 & 1682\n"
     ]
    }
   ],
   "source": [
    "print('User id  - min & max:', \n",
    "      raw_ratings[:, 0].min(), '&', raw_ratings[:, 0].max()) \n",
    "print('Movie id - min & max:', \n",
    "      raw_ratings[:, 1].min(), '&', raw_ratings[:, 1].max())"
   ]
  },
  {
   "cell_type": "markdown",
   "id": "f46e7920",
   "metadata": {},
   "source": [
    "Như vậy là hoàn toàn khớp (đúng không?)."
   ]
  },
  {
   "cell_type": "markdown",
   "id": "98eb7d84",
   "metadata": {},
   "source": [
    "---"
   ]
  },
  {
   "cell_type": "markdown",
   "id": "af20a067",
   "metadata": {},
   "source": [
    "## Đưa ra câu hỏi có ý nghĩa cần trả lời"
   ]
  },
  {
   "cell_type": "markdown",
   "id": "ffb99848",
   "metadata": {},
   "source": [
    "Đến đây, ta đã hiểu hơn về dữ liệu. Bây giờ, ta sẽ xem thử có câu hỏi nào có ý nghĩa mà có thể được trả lời bằng dữ liệu này không.\n",
    "\n",
    "Một câu hỏi có thể có là: \\\n",
    "*Với mỗi người dùng, ta nên đề xuất (recommend) các phim nào để người dùng xem?*\n",
    "\n",
    "Việc tìm ra câu trả lời cho câu hỏi này sẽ giúp ích cho cả người dùng và nhà cung cấp dịch vụ xem phim:\n",
    "\n",
    "- Người dùng: người dùng có thể muốn xem phim, nhưng có rất nhiều phim và người dùng không biết nên xem phim nào; sẽ rất tiện cho người dùng nếu hệ thống có thể đề xuất một danh sách phim mà nhiều khả năng người dùng sẽ thích\n",
    "- Nhà cung cấp dịch vụ xem phim: nếu hệ thống đề xuất tốt thì nhiều khả năng người dùng sẽ xem phim và sẽ thích, nghĩa là người dùng sẽ tiếp tục trả phí để sử dụng dịch vụ ;-)"
   ]
  },
  {
   "cell_type": "markdown",
   "id": "2b8d3d6a",
   "metadata": {},
   "source": [
    "---"
   ]
  },
  {
   "cell_type": "markdown",
   "id": "1f3413be",
   "metadata": {},
   "source": [
    "## Tiền xử lý (1đ)"
   ]
  },
  {
   "cell_type": "markdown",
   "id": "7d9d5f29",
   "metadata": {},
   "source": [
    "Việc xây dựng hệ thống đề xuất sản phẩm mình đã có nói sơ bộ ở buổi học 09. Đầu tiên, từ dữ liệu ban đầu là array `raw_ratings`, bạn sẽ cần tạo array `ratings` gồm số-lượng-user dòng và số-lượng-movie cột, `ratings[i, j]` cho biết user có id i đã cho movie có id j bao nhiêu điểm, nếu chưa cho thì giá trị sẽ là `nan`. Vì Python đánh chỉ số từ 0 nên bạn cũng cần chỉnh lại để id của user và movie bắt đầu từ 0 (thay vì 1)."
   ]
  },
  {
   "cell_type": "code",
   "execution_count": 15,
   "id": "512671b3",
   "metadata": {
    "deletable": false,
    "nbgrader": {
     "cell_type": "code",
     "checksum": "5ce14ac032aded94c7d9d391ec305fc0",
     "grade": false,
     "grade_id": "cell-11ff284c3fe7fb7e",
     "locked": false,
     "schema_version": 3,
     "solution": true,
     "task": false
    }
   },
   "outputs": [],
   "source": [
    "# tạo ma trận chứa toàn các giá trị nan\n",
    "ratings = np.empty((len(set(raw_ratings[:,0])),len(set(raw_ratings[:,1]))))\n",
    "ratings[:] = np.nan\n",
    "\n",
    "temp = raw_ratings.copy()\n",
    "\n",
    "temp[:,0] -=1\n",
    "temp[:,1] -=1\n",
    "\n",
    "ratings[temp[:,0],temp[:,1]] = temp[:,2]"
   ]
  },
  {
   "cell_type": "code",
   "execution_count": 16,
   "id": "65cc1d91",
   "metadata": {
    "deletable": false,
    "editable": false,
    "nbgrader": {
     "cell_type": "code",
     "checksum": "129b541ee545b7ad80ef9187b0ac5c05",
     "grade": true,
     "grade_id": "cell-fb18066caaa407ed",
     "locked": true,
     "points": 1,
     "schema_version": 3,
     "solution": false,
     "task": false
    }
   },
   "outputs": [],
   "source": [
    "assert ratings.shape == (943, 1682)\n",
    "missing_ratios = np.mean(np.isnan(ratings))\n",
    "assert missing_ratios.round(3) == 0.937 # Có 93.7% giá trị nan!"
   ]
  },
  {
   "cell_type": "markdown",
   "id": "fe0c2a40",
   "metadata": {},
   "source": [
    "---"
   ]
  },
  {
   "cell_type": "markdown",
   "id": "0071c835",
   "metadata": {},
   "source": [
    "## Phân tích dữ liệu để trả lời cho câu hỏi (6đ)"
   ]
  },
  {
   "cell_type": "markdown",
   "id": "0653cfcd",
   "metadata": {},
   "source": [
    "Để có thể đề xuất các movie cho mỗi user thì ta sẽ phải làm 2 công đoạn:\n",
    "\n",
    "- Công đoạn 1: dự đoán điểm mà mỗi user sẽ cho đối với các movie mà user chưa xem (nói một cách khác: điền các giá trị nan trong array `ratings`)\n",
    "- Công đoạn 2: đề xuất cho user các movie (mà user chưa xem) có điểm dự đoán cao\n",
    "\n",
    "Trong bài này thì ta chỉ tập trung làm công đoạn 1."
   ]
  },
  {
   "cell_type": "markdown",
   "id": "0d5cb0d8",
   "metadata": {},
   "source": [
    "Ở buổi học 09, mình đã hướng dẫn cách dự đoán điểm cho một user. Trong bài này, bạn sẽ làm với tất cả user. Tuy nhiên, bạn sẽ không dùng vòng lặp và lần lượt làm cho từng user vì Numpy không thích vòng lặp ;-). Thay vào đó, bạn sẽ làm một lúc cho tất cả user. Để làm được điều này thì với mỗi user bạn cần tính điểm (rating) cho tất cả các movie; nếu bạn chỉ tính điểm cho các movie mà chưa được cho điểm như ở buổi học 09 thì sẽ khó có thể làm một lúc cho tất cả user được, vì mỗi user sẽ có số lượng movie chưa cho điểm khác nhau. Việc tính điểm cho các movie đã có điểm là thừa (điểm được tính lại thật ra sẽ rất gần với điểm ban đầu do điểm ban đầu sẽ có trọng số lớn nhất), nhưng sẽ có khả năng giúp tăng tốc vì ta có thể làm với tất cả user cùng một lúc.\n",
    "\n",
    "Nếu thử làm thì bạn sẽ thấy vẫn không thể làm với tất cả user cùng một lúc được, do các array kết quả trung gian sẽ có kích thước khoảng số-lượng-user x số-lượng-user x số-lượng-movie, và sẽ bị báo không đủ bộ nhớ. Một cách để vượt qua vấn đề này mà không quay về cách duyệt từng user là duyệt một lúc một nhóm các user (gọi là một batch) và dự đoán điểm của nhóm các user này; kích thước của các array kết quả trung gian sẽ giảm xuống khoảng số-lượng-user-của-một-batch x số-lượng-user x số-lượng-movie. Như vậy, ở chỗ này bạn sẽ được phép dùng vòng lặp để duyệt từng batch (nhóm user).\n",
    "\n",
    "Bạn sẽ dùng `batch_size` (số lượng user của một nhóm) là 32. Và sau cùng, bạn sẽ điền cho array `filled_ratings` điểm của tất cả movie; trong array này, mình chỉ quan tâm đến các giá trị điền ứng với các giá trị nan trong mảng `ratings` ban đầu (còn các giá trị khác bạn cho sao cũng được). Trong quá trình làm, bạn lưu ý không làm thay đổi array `ratings`."
   ]
  },
  {
   "cell_type": "code",
   "execution_count": 17,
   "id": "f4fde3e7",
   "metadata": {},
   "outputs": [],
   "source": [
    "batch_size = 32\n",
    "filled_ratings = np.empty_like(ratings)"
   ]
  },
  {
   "cell_type": "markdown",
   "id": "953632a0",
   "metadata": {},
   "source": [
    "Mình không có ý làm bạn hoảng sợ nhưng việc cài đặt sẽ khá phức tạp, đỏi hỏi nắm vững cơ chế broadcasting và khả năng tưởng tượng 3 chiều cao ;-). Do đó, đầu tiên bạn sẽ thử làm với một batch trước. Mình sẽ hỗ trợ bạn bằng cách chia ra thành các bước và cung cấp bộ test ở mỗi bước. Ý quan trọng mà bạn cần nắm khi chuyển từ làm với một user (như ở buổi học 09) sang làm với `batch_size` user là: các array sẽ có thêm một chiều ở đầu với kích thước là `batch_size` ứng với `batch_size` user. \\\n",
    "Sau khi code đã chạy đúng với một batch, bạn sẽ làm thật với tất cả dữ liệu."
   ]
  },
  {
   "cell_type": "markdown",
   "id": "8166d230",
   "metadata": {},
   "source": [
    "Đầu tiên, bạn sẽ thử làm với một batch ứng với các user có chỉ số từ `start` đến `end` (5.5đ)."
   ]
  },
  {
   "cell_type": "code",
   "execution_count": 18,
   "id": "e32c62e8",
   "metadata": {},
   "outputs": [],
   "source": [
    "start = 0\n",
    "end = batch_size"
   ]
  },
  {
   "cell_type": "markdown",
   "id": "3ac9772d",
   "metadata": {},
   "source": [
    "Bước 1: tính array `similarities` cho biết độ tương tự giữa mỗi user trong batch đang xét với tất cả các user trong toàn bộ dữ liệu (cách tính độ tương tự giống như ở buổi học 09). Array này sẽ có kích thước `batch_size` x `n_users` (`n_users` là số lượng user trong toàn bộ dữ liệu), `similarities[i, j]` sẽ cho biết độ tương tự giữa user chỉ số i với user chỉ số j. Trong trường hợp 2 user không có cho điểm chung movie nào (khi chạy bạn có thể sẽ thấy warning \"RuntimeWarning: Mean of empty slice\") thì bạn cho độ tương tự bằng 0."
   ]
  },
  {
   "cell_type": "code",
   "execution_count": 19,
   "id": "a219bc83",
   "metadata": {
    "deletable": false,
    "nbgrader": {
     "cell_type": "code",
     "checksum": "f04fe3d37e91f17cbf7058aed71d0a82",
     "grade": false,
     "grade_id": "cell-1d34779ee4335381",
     "locked": false,
     "schema_version": 3,
     "solution": true,
     "task": false
    }
   },
   "outputs": [
    {
     "name": "stderr",
     "output_type": "stream",
     "text": [
      "C:\\Users\\luutr\\AppData\\Local\\Temp/ipykernel_10016/3873511762.py:2: RuntimeWarning: Mean of empty slice\n",
      "  temp1 = np.nanmean(temp, axis=2)\n"
     ]
    }
   ],
   "source": [
    "temp = np.abs(ratings - ratings[start:end, None,:])\n",
    "temp1 = np.nanmean(temp, axis=2)\n",
    "similarities = 1/(0.001 + temp1)\n",
    "# chuyển nan về 0\n",
    "similarities = np.nan_to_num(similarities)"
   ]
  },
  {
   "cell_type": "code",
   "execution_count": 20,
   "id": "bab1c41c",
   "metadata": {
    "deletable": false,
    "editable": false,
    "nbgrader": {
     "cell_type": "code",
     "checksum": "c33d00765e83dd568159477781da990e",
     "grade": true,
     "grade_id": "cell-3c3f855070577541",
     "locked": true,
     "points": 2,
     "schema_version": 3,
     "solution": false,
     "task": false
    }
   },
   "outputs": [],
   "source": [
    "# TEST\n",
    "assert similarities.shape == (32, 943)\n",
    "assert np.array_equal(similarities[:3, :3].round(1), \n",
    "                      np.array([[1.0e+03, 1.1e+00, 7.0e-01],\n",
    "                                [1.1e+00, 1.0e+03, 7.0e-01],\n",
    "                                [7.0e-01, 7.0e-01, 1.0e+03]]))"
   ]
  },
  {
   "cell_type": "code",
   "execution_count": 21,
   "id": "43b660a1",
   "metadata": {},
   "outputs": [],
   "source": [
    "assert np.array_equal(similarities[:5, :5].round(1),\n",
    "np.array([[1.0e+03, 1.1e+00, 7.0e-01, 8.0e-01, 1.0e+00],\n",
    "[1.1e+00, 1.0e+03, 7.0e-01, 7.0e-01, 1.7e+00],\n",
    "[7.0e-01, 7.0e-01, 1.0e+03, 5.0e-01, 1.0e+00],\n",
    "[8.0e-01, 7.0e-01, 5.0e-01, 1.0e+03, 2.0e+00],\n",
    "[1.0e+00, 1.7e+00, 1.0e+00, 2.0e+00, 1.0e+03]]))"
   ]
  },
  {
   "cell_type": "markdown",
   "id": "e7273f31",
   "metadata": {},
   "source": [
    "Bước 2: tính array trọng số `weights` là array độ tương tự `similarity` đã được chuẩn hóa. Với mỗi user trong batch đang xét, độ tương tự với tất cả các user sẽ được chuẩn hóa theo từng movie (giống như ở buổi học 09): với các user mà đã cho điểm movie thì chuẩn hóa bằng cách chia độ tương tự cho tổng độ tương tự mà chỉ xét trên các user đã cho điểm movie, với các user còn lại chuẩn hóa bằng cách cho độ tương tự bằng 0. Array `weights` sẽ có kích thước là `batch_size` x `n_users` x `n_movies` (với `n_movies` là tổng số lượng movie). \\\n",
    "Khi chạy, bạn sẽ thấy warning \"RuntimeWarning: invalid value encountered in true_divide\"; đây là do các user mà có cho điểm một movie đang xét đều có độ tương tự bằng 0 với một user đang xét, dẫn đến khi chuẩn hóa sẽ ra 0/0 và kết quả là nan. Trường hợp này có nghĩa là không đủ thông tin để dự đoán điểm và trong bài này thì bạn cứ tạm để như vậy."
   ]
  },
  {
   "cell_type": "code",
   "execution_count": 22,
   "id": "17332625",
   "metadata": {},
   "outputs": [
    {
     "name": "stderr",
     "output_type": "stream",
     "text": [
      "C:\\Users\\luutr\\AppData\\Local\\Temp/ipykernel_10016/2588024967.py:3: RuntimeWarning: invalid value encountered in true_divide\n",
      "  weights = normalized_w/ np.sum(normalized_w,axis=1)[:,None,:]\n"
     ]
    },
    {
     "data": {
      "text/plain": [
       "array([[[6.84033520e-01, 8.80920564e-01, 9.17640778e-01, ...,\n",
       "         0.00000000e+00, 0.00000000e+00, 0.00000000e+00],\n",
       "        [7.23504722e-04, 0.00000000e+00, 0.00000000e+00, ...,\n",
       "         0.00000000e+00, 0.00000000e+00, 0.00000000e+00],\n",
       "        [0.00000000e+00, 0.00000000e+00, 0.00000000e+00, ...,\n",
       "         0.00000000e+00, 0.00000000e+00, 0.00000000e+00],\n",
       "        ...,\n",
       "        [9.75796747e-04, 0.00000000e+00, 0.00000000e+00, ...,\n",
       "         0.00000000e+00, 0.00000000e+00, 0.00000000e+00],\n",
       "        [0.00000000e+00, 0.00000000e+00, 0.00000000e+00, ...,\n",
       "         0.00000000e+00, 0.00000000e+00, 0.00000000e+00],\n",
       "        [0.00000000e+00, 7.68974546e-04, 0.00000000e+00, ...,\n",
       "         0.00000000e+00, 0.00000000e+00, 0.00000000e+00]],\n",
       "\n",
       "       [[6.69930549e-04, 6.59369283e-03, 9.68620263e-03, ...,\n",
       "         0.00000000e+00, 0.00000000e+00, 0.00000000e+00],\n",
       "        [6.33382116e-01, 0.00000000e+00, 0.00000000e+00, ...,\n",
       "         0.00000000e+00, 0.00000000e+00, 0.00000000e+00],\n",
       "        [0.00000000e+00, 0.00000000e+00, 0.00000000e+00, ...,\n",
       "         0.00000000e+00, 0.00000000e+00, 0.00000000e+00],\n",
       "        ...,\n",
       "        [5.53724842e-04, 0.00000000e+00, 0.00000000e+00, ...,\n",
       "         0.00000000e+00, 0.00000000e+00, 0.00000000e+00],\n",
       "        [0.00000000e+00, 0.00000000e+00, 0.00000000e+00, ...,\n",
       "         0.00000000e+00, 0.00000000e+00, 0.00000000e+00],\n",
       "        [0.00000000e+00, 1.12009847e-02, 0.00000000e+00, ...,\n",
       "         0.00000000e+00, 0.00000000e+00, 0.00000000e+00]],\n",
       "\n",
       "       [[9.05129359e-05, 2.14446850e-04, 6.24086986e-04, ...,\n",
       "         0.00000000e+00, 0.00000000e+00, 0.00000000e+00],\n",
       "        [9.39917942e-05, 0.00000000e+00, 0.00000000e+00, ...,\n",
       "         0.00000000e+00, 0.00000000e+00, 0.00000000e+00],\n",
       "        [0.00000000e+00, 0.00000000e+00, 0.00000000e+00, ...,\n",
       "         0.00000000e+00, 0.00000000e+00, 0.00000000e+00],\n",
       "        ...,\n",
       "        [7.75899010e-05, 0.00000000e+00, 0.00000000e+00, ...,\n",
       "         0.00000000e+00, 0.00000000e+00, 0.00000000e+00],\n",
       "        [0.00000000e+00, 0.00000000e+00, 0.00000000e+00, ...,\n",
       "         0.00000000e+00, 0.00000000e+00, 0.00000000e+00],\n",
       "        [0.00000000e+00, 6.42484474e-04, 0.00000000e+00, ...,\n",
       "         0.00000000e+00, 0.00000000e+00, 0.00000000e+00]],\n",
       "\n",
       "       ...,\n",
       "\n",
       "       [[1.16617220e-04, 9.65083937e-04, 1.10616993e-02, ...,\n",
       "         0.00000000e+00, 0.00000000e+00, 0.00000000e+00],\n",
       "        [1.04967148e-04, 0.00000000e+00, 0.00000000e+00, ...,\n",
       "         0.00000000e+00, 0.00000000e+00, 0.00000000e+00],\n",
       "        [0.00000000e+00, 0.00000000e+00, 0.00000000e+00, ...,\n",
       "         0.00000000e+00, 0.00000000e+00, 0.00000000e+00],\n",
       "        ...,\n",
       "        [2.09724780e-04, 0.00000000e+00, 0.00000000e+00, ...,\n",
       "         0.00000000e+00, 0.00000000e+00, 0.00000000e+00],\n",
       "        [0.00000000e+00, 0.00000000e+00, 0.00000000e+00, ...,\n",
       "         0.00000000e+00, 0.00000000e+00, 0.00000000e+00],\n",
       "        [0.00000000e+00, 1.44682301e-03, 0.00000000e+00, ...,\n",
       "         0.00000000e+00, 0.00000000e+00, 0.00000000e+00]],\n",
       "\n",
       "       [[1.09068541e-04, 8.15263780e-04, 1.06165707e-02, ...,\n",
       "         0.00000000e+00, 0.00000000e+00, 0.00000000e+00],\n",
       "        [1.58579137e-04, 0.00000000e+00, 0.00000000e+00, ...,\n",
       "         0.00000000e+00, 0.00000000e+00, 0.00000000e+00],\n",
       "        [0.00000000e+00, 0.00000000e+00, 0.00000000e+00, ...,\n",
       "         0.00000000e+00, 0.00000000e+00, 0.00000000e+00],\n",
       "        ...,\n",
       "        [1.18973958e-04, 0.00000000e+00, 0.00000000e+00, ...,\n",
       "         0.00000000e+00, 0.00000000e+00, 0.00000000e+00],\n",
       "        [0.00000000e+00, 0.00000000e+00, 0.00000000e+00, ...,\n",
       "         0.00000000e+00, 0.00000000e+00, 0.00000000e+00],\n",
       "        [0.00000000e+00, 4.44874529e-04, 0.00000000e+00, ...,\n",
       "         0.00000000e+00, 0.00000000e+00, 0.00000000e+00]],\n",
       "\n",
       "       [[8.49818495e-04, 6.01576260e-04, 1.27059464e-02, ...,\n",
       "         0.00000000e+00, 0.00000000e+00, 0.00000000e+00],\n",
       "        [6.56870876e-04, 0.00000000e+00, 0.00000000e+00, ...,\n",
       "         0.00000000e+00, 0.00000000e+00, 0.00000000e+00],\n",
       "        [0.00000000e+00, 0.00000000e+00, 0.00000000e+00, ...,\n",
       "         0.00000000e+00, 0.00000000e+00, 0.00000000e+00],\n",
       "        ...,\n",
       "        [6.56870876e-04, 0.00000000e+00, 0.00000000e+00, ...,\n",
       "         0.00000000e+00, 0.00000000e+00, 0.00000000e+00],\n",
       "        [0.00000000e+00, 0.00000000e+00, 0.00000000e+00, ...,\n",
       "         0.00000000e+00, 0.00000000e+00, 0.00000000e+00],\n",
       "        [0.00000000e+00, 7.30283205e-04, 0.00000000e+00, ...,\n",
       "         0.00000000e+00, 0.00000000e+00, 0.00000000e+00]]])"
      ]
     },
     "execution_count": 22,
     "metadata": {},
     "output_type": "execute_result"
    }
   ],
   "source": [
    "w = similarities.copy()\n",
    "normalized_w = w[:,:,None] * ~np.isnan(ratings)\n",
    "weights = normalized_w/ np.sum(normalized_w,axis=1)[:,None,:]\n",
    "weights"
   ]
  },
  {
   "cell_type": "code",
   "execution_count": 23,
   "id": "01823615",
   "metadata": {
    "deletable": false,
    "editable": false,
    "nbgrader": {
     "cell_type": "code",
     "checksum": "0ed0ec51e4cad533809106c7ff74caa8",
     "grade": true,
     "grade_id": "cell-04b8a47e95e8dd09",
     "locked": true,
     "points": 2,
     "schema_version": 3,
     "solution": false,
     "task": false
    }
   },
   "outputs": [],
   "source": [
    "# TEST\n",
    "assert weights.shape == (32, 943, 1682)\n",
    "assert np.sum(np.isnan(weights)) == 31119"
   ]
  },
  {
   "cell_type": "code",
   "execution_count": 24,
   "id": "2ac7bd5e",
   "metadata": {},
   "outputs": [],
   "source": [
    "assert weights[0].sum().round() == 1682\n",
    "assert weights[1].sum().round() == 1682"
   ]
  },
  {
   "cell_type": "markdown",
   "id": "bf949328",
   "metadata": {},
   "source": [
    "Bước 3: Với mỗi user trong batch đang xét, tính điểm (cho tất cả movie) bằng cách nhân điểm của tất cả user với trọng số tương ứng trong array `weight`; rồi ghi các điểm của mỗi user xuống một dòng trong array `filled_ratings`. "
   ]
  },
  {
   "cell_type": "code",
   "execution_count": 23,
   "id": "7d9e8bb9",
   "metadata": {
    "deletable": false,
    "nbgrader": {
     "cell_type": "code",
     "checksum": "8736ae9cc0826cdae3a22e8f8406b045",
     "grade": false,
     "grade_id": "cell-e73c0a38ffa925db",
     "locked": false,
     "schema_version": 3,
     "solution": true,
     "task": false
    }
   },
   "outputs": [],
   "source": [
    "filled_ratings[start:end] = np.nansum(ratings * weights, axis=1)"
   ]
  },
  {
   "cell_type": "code",
   "execution_count": 24,
   "id": "bde0f216",
   "metadata": {
    "deletable": false,
    "editable": false,
    "nbgrader": {
     "cell_type": "code",
     "checksum": "72ece520b84bb40fe8012711ca6a064c",
     "grade": true,
     "grade_id": "cell-9a094032ccb1726a",
     "locked": true,
     "points": 1.5,
     "schema_version": 3,
     "solution": false,
     "task": false
    }
   },
   "outputs": [],
   "source": [
    "# TEST\n",
    "filled_batch = filled_ratings[start:end]\n",
    "filled_nanvals = filled_batch[np.isnan(ratings[start:end])]\n",
    "assert np.array_equal(filled_nanvals[:3].round(1),\n",
    "                      np.array([3.6, 3.5, 4. ]))\n",
    "assert np.array_equal(filled_nanvals[-3:].round(1),\n",
    "                      np.array([2., 3., 3. ]))"
   ]
  },
  {
   "cell_type": "markdown",
   "id": "51eebe8c",
   "metadata": {},
   "source": [
    "Code của bạn đã chạy OK với một batch rồi thì bây giờ bạn có thể làm thật trên toàn bộ dữ liệu (0.5đ)."
   ]
  },
  {
   "cell_type": "code",
   "execution_count": 25,
   "id": "e9ed9adb",
   "metadata": {
    "deletable": false,
    "nbgrader": {
     "cell_type": "code",
     "checksum": "fa8de9927513fd4a907f496d0ec51de6",
     "grade": false,
     "grade_id": "cell-9ee6c3bd8e2dea97",
     "locked": false,
     "schema_version": 3,
     "solution": true,
     "task": false
    }
   },
   "outputs": [
    {
     "name": "stderr",
     "output_type": "stream",
     "text": [
      "C:\\Users\\luutr\\AppData\\Local\\Temp/ipykernel_9340/1404763321.py:14: RuntimeWarning: Mean of empty slice\n",
      "  temp1 = np.nanmean(temp, axis=2)\n",
      "C:\\Users\\luutr\\AppData\\Local\\Temp/ipykernel_9340/1404763321.py:19: RuntimeWarning: invalid value encountered in true_divide\n",
      "  weights = normalized_w/ np.sum(normalized_w,axis=1)[:,None,:]\n"
     ]
    }
   ],
   "source": [
    "filled_ratings = np.empty_like(ratings)\n",
    "\n",
    "batch_size =32\n",
    "start = 0\n",
    "end = batch_size\n",
    "\n",
    "flag = True\n",
    "\n",
    "if end > len(filled_ratings):\n",
    "    end = len(filled_ratings)\n",
    "\n",
    "while flag:\n",
    "    temp = np.abs(ratings - ratings[start:end, None,:])\n",
    "    temp1 = np.nanmean(temp, axis=2)\n",
    "    similarities = np.reciprocal(0.001 + temp1)\n",
    "    similarities = np.nan_to_num(similarities)\n",
    "\n",
    "    normalized_w = similarities[:,:,None] * ~np.isnan(ratings)\n",
    "    weights = normalized_w/ np.sum(normalized_w,axis=1)[:,None,:]\n",
    "\n",
    "    filled_ratings[start:end] = np.nansum(ratings * weights, axis=1)\n",
    "\n",
    "    start=end\n",
    "    end +=batch_size\n",
    "    if start == len(filled_ratings):\n",
    "        flag = False\n",
    "    if end > len(filled_ratings):\n",
    "        end = len(filled_ratings)\n",
    "        "
   ]
  },
  {
   "cell_type": "code",
   "execution_count": null,
   "id": "b8600265",
   "metadata": {
    "deletable": false,
    "editable": false,
    "nbgrader": {
     "cell_type": "code",
     "checksum": "9c1cef3424f92b66a41ca49dd440f262",
     "grade": true,
     "grade_id": "cell-5e6aaf23d47e5193",
     "locked": true,
     "points": 0.5,
     "schema_version": 3,
     "solution": false,
     "task": false
    }
   },
   "outputs": [],
   "source": [
    "# TEST\n",
    "filled_nanvals = filled_ratings[np.isnan(ratings)]\n",
    "assert np.array_equal(filled_nanvals[:3].round(1),\n",
    "                      np.array([3.6, 3.5, 4. ]))\n",
    "assert np.array_equal(filled_nanvals[-3:].round(1),\n",
    "                      np.array([0., 3., 3. ]))"
   ]
  }
 ],
 "metadata": {
  "kernelspec": {
   "display_name": "Python 3 (ipykernel)",
   "language": "python",
   "name": "python3"
  },
  "language_info": {
   "codemirror_mode": {
    "name": "ipython",
    "version": 3
   },
   "file_extension": ".py",
   "mimetype": "text/x-python",
   "name": "python",
   "nbconvert_exporter": "python",
   "pygments_lexer": "ipython3",
   "version": "3.9.7"
  },
  "toc": {
   "base_numbering": 1,
   "nav_menu": {},
   "number_sections": false,
   "sideBar": true,
   "skip_h1_title": true,
   "title_cell": "Table of Contents",
   "title_sidebar": "Contents",
   "toc_cell": false,
   "toc_position": {
    "height": "calc(100% - 180px)",
    "left": "10px",
    "top": "150px",
    "width": "191px"
   },
   "toc_section_display": true,
   "toc_window_display": true
  }
 },
 "nbformat": 4,
 "nbformat_minor": 5
}
